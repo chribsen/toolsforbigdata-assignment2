{
 "cells": [
  {
   "cell_type": "markdown",
   "metadata": {},
   "source": [
    "# Assignment 2"
   ]
  },
  {
   "cell_type": "markdown",
   "metadata": {},
   "source": [
    "This assignment will be concerned with demonstrating the following course contents:\n",
    "* Relational databases (SQL) and MongoDB (NoSQL)\n",
    "* Graph Databases\n",
    "* Streaming algorithms\n",
    "\n"
   ]
  },
  {
   "cell_type": "markdown",
   "metadata": {},
   "source": [
    "## SQL and NoSQL"
   ]
  },
  {
   "cell_type": "markdown",
   "metadata": {},
   "source": [
    "SQL databases has over the last decades been the core norm of persisting data into non-volatile memory. Although SQL is a great way to represent certain data sets, it can be quite time expensive when queries starts to compute a high number of large cartesian products between tables. To mitigate some of these performance problems, there has been an increasing interest within the area of NoSQL (i.e. a database that is not meant to have normalized relations). MongoDB is a popular NoSQL database and provides a schema-less persistency of the data in a json-like format (called bson). In contrary to SQL, the data in a NoSQL database should be denormalized as much as possible (that is, you should store it wihin a nested structure). This makes MongoDB especially interesting when storing large documents or highly detailed log-files with a high throughput."
   ]
  },
  {
   "cell_type": "markdown",
   "metadata": {},
   "source": [
    "In this exercise we're going to use the Northwind database. To give the reader a idea of how this database looks like, from a relational perspective, a ER diagram is displayed below."
   ]
  },
  {
   "cell_type": "markdown",
   "metadata": {},
   "source": [
    "<img src=\"http://i3.codeplex.com/download?ProjectName=northwinddatabase&DownloadId=269240\" width=\"800\" height=\"800\" />"
   ]
  },
  {
   "cell_type": "markdown",
   "metadata": {},
   "source": [
    "The equivalent MongoDB database, that we are going to use, has onfortunately not been denormalized into one collection. Because of this, the way MongoDB is being used in this exercise is somehow _a special case_."
   ]
  },
  {
   "cell_type": "markdown",
   "metadata": {},
   "source": [
    "### Exercise 1"
   ]
  },
  {
   "cell_type": "markdown",
   "metadata": {},
   "source": [
    "_Task: Establish connection to MongoDB and SQLite_"
   ]
  },
  {
   "cell_type": "markdown",
   "metadata": {},
   "source": [
    "In the first exercise, we are going to make a basic connection to both SQLite (a light-weight SQL engine that persists data into files) and to MongoDB."
   ]
  },
  {
   "cell_type": "markdown",
   "metadata": {},
   "source": [
    "#### Connection to SQLite"
   ]
  },
  {
   "cell_type": "markdown",
   "metadata": {},
   "source": [
    "The first thing we need to do, is to import sqlite3, which is the Python module we're going to use."
   ]
  },
  {
   "cell_type": "code",
   "execution_count": 1,
   "metadata": {
    "collapsed": true
   },
   "outputs": [],
   "source": [
    "import sqlite3 as lite"
   ]
  },
  {
   "cell_type": "markdown",
   "metadata": {},
   "source": [
    "We can create a small function that returns a connection to the northwind.db (a file in the same directory)."
   ]
  },
  {
   "cell_type": "code",
   "execution_count": 2,
   "metadata": {
    "collapsed": true
   },
   "outputs": [],
   "source": [
    "def get_sqlite_connection():\n",
    "    conn = lite.connect('northwind.db')\n",
    "    conn.text_factory = str\n",
    "    return conn"
   ]
  },
  {
   "cell_type": "markdown",
   "metadata": {},
   "source": [
    "From here on, getting a connection to the SQLite DB is easy..."
   ]
  },
  {
   "cell_type": "code",
   "execution_count": null,
   "metadata": {
    "collapsed": true
   },
   "outputs": [],
   "source": [
    "conn = get_sqlite_connection()"
   ]
  },
  {
   "cell_type": "markdown",
   "metadata": {},
   "source": [
    "Given the `conn` object we can create a cursor, which is used to query the database."
   ]
  },
  {
   "cell_type": "code",
   "execution_count": null,
   "metadata": {
    "collapsed": true
   },
   "outputs": [],
   "source": [
    "cur = conn.cursor()"
   ]
  },
  {
   "cell_type": "markdown",
   "metadata": {},
   "source": [
    "Using the cursor `cur` we can can retrieve all the products by making the sql query `SELECT * FROM PRODUCTS`."
   ]
  },
  {
   "cell_type": "code",
   "execution_count": 77,
   "metadata": {
    "collapsed": false
   },
   "outputs": [
    {
     "data": {
      "text/plain": [
       "<sqlite3.Cursor at 0x1046a12d0>"
      ]
     },
     "execution_count": 77,
     "metadata": {},
     "output_type": "execute_result"
    }
   ],
   "source": [
    "cur.execute('SELECT * FROM PRODUCTS')"
   ]
  },
  {
   "cell_type": "markdown",
   "metadata": {},
   "source": [
    "The query has been executed and the result set can be obtained by calling fetchall. Here, we are just going to see the first element."
   ]
  },
  {
   "cell_type": "code",
   "execution_count": 78,
   "metadata": {
    "collapsed": false
   },
   "outputs": [
    {
     "data": {
      "text/plain": [
       "[(1, 'Chai', 1, 1, '10 boxes x 20 bags', 18, 39, 0, 10, '0')]"
      ]
     },
     "execution_count": 78,
     "metadata": {},
     "output_type": "execute_result"
    }
   ],
   "source": [
    "cur.fetchall()[:1] # Take the first element"
   ]
  },
  {
   "cell_type": "markdown",
   "metadata": {},
   "source": [
    "We can query the database once again, this time, however, we are going to sort the result set using the `customerid`, which is a column in the table `CUSTOMERS`."
   ]
  },
  {
   "cell_type": "code",
   "execution_count": 79,
   "metadata": {
    "collapsed": false
   },
   "outputs": [
    {
     "data": {
      "text/plain": [
       "[('ALFKI',\n",
       "  'Alfreds Futterkiste',\n",
       "  'Maria Anders',\n",
       "  'Sales Representative',\n",
       "  'Obere Str. 57',\n",
       "  'Berlin',\n",
       "  None,\n",
       "  '12209',\n",
       "  'Germany',\n",
       "  '030-0074321',\n",
       "  '030-0076545')]"
      ]
     },
     "execution_count": 79,
     "metadata": {},
     "output_type": "execute_result"
    }
   ],
   "source": [
    "cur.execute('SELECT * FROM customers ORDER BY customerid ASC')\n",
    "cur.fetchall()[:1]"
   ]
  },
  {
   "cell_type": "markdown",
   "metadata": {},
   "source": [
    "#### Connection to MongoDB"
   ]
  },
  {
   "cell_type": "markdown",
   "metadata": {},
   "source": [
    "Connecting to MongoDB is slightly more difficult, than connecting to a SQLite DB, since MongoDB is a client-server database engine and has to be configured."
   ]
  },
  {
   "cell_type": "markdown",
   "metadata": {},
   "source": [
    "First, we need to install MongoDB. After MongoDB is installed, we need to run a shell script that imports the northwind database into MongoDB. After this, we can start the MongoDB service on localhost and the default port using `mongod` in bash."
   ]
  },
  {
   "cell_type": "markdown",
   "metadata": {},
   "source": [
    "<img src=\"img/mongod-service-start.png\" width=\"800\" height=\"800\" />"
   ]
  },
  {
   "cell_type": "markdown",
   "metadata": {},
   "source": [
    "After we've done this, we can `pip install pymongo`, and we are finally ready to start interacting with Northwind MongoDB through Python."
   ]
  },
  {
   "cell_type": "code",
   "execution_count": 5,
   "metadata": {
    "collapsed": true
   },
   "outputs": [],
   "source": [
    "from pymongo import MongoClient\n",
    "import pymongo"
   ]
  },
  {
   "cell_type": "markdown",
   "metadata": {},
   "source": [
    "We can create a function, that connects to MongoDB and then returns a connection to \"Nortwind\""
   ]
  },
  {
   "cell_type": "code",
   "execution_count": 6,
   "metadata": {
    "collapsed": false
   },
   "outputs": [],
   "source": [
    "def get_mongo_connection():\n",
    "    client=MongoClient('localhost',27017)\n",
    "    return client['Northwind']   # Get the database"
   ]
  },
  {
   "cell_type": "markdown",
   "metadata": {},
   "source": [
    "At this point, we can easily make return an MongoDB conn instance"
   ]
  },
  {
   "cell_type": "code",
   "execution_count": 7,
   "metadata": {
    "collapsed": true
   },
   "outputs": [],
   "source": [
    "c = get_mongo_connection()"
   ]
  },
  {
   "cell_type": "markdown",
   "metadata": {},
   "source": [
    "We have established a connection and can use it to retrieve all the products and list the first entry."
   ]
  },
  {
   "cell_type": "code",
   "execution_count": 83,
   "metadata": {
    "collapsed": false
   },
   "outputs": [
    {
     "data": {
      "text/plain": [
       "{u'CategoryID': 1,\n",
       " u'Discontinued': 0,\n",
       " u'ProductID': 1,\n",
       " u'ProductName': u'Chai',\n",
       " u'QuantityPerUnit': u'10 boxes x 20 bags',\n",
       " u'ReorderLevel': 10,\n",
       " u'SupplierID': 1,\n",
       " u'UnitPrice': 18.0,\n",
       " u'UnitsInStock': 39,\n",
       " u'UnitsOnOrder': 0,\n",
       " u'_id': ObjectId('5609b12899ded9537b06c7e5')}"
      ]
     },
     "execution_count": 83,
     "metadata": {},
     "output_type": "execute_result"
    }
   ],
   "source": [
    "products = c.products.find()\n",
    "list(products)[0]"
   ]
  },
  {
   "cell_type": "markdown",
   "metadata": {},
   "source": [
    "Although, this is just a dict, it can be easily seen as a bson object, which is the original way that MongoDB persists data."
   ]
  },
  {
   "cell_type": "markdown",
   "metadata": {},
   "source": [
    "If we wanted to make yet another query, but this time we wanted to sort the result, we can apply a sort filter to a specific bson key. From here on, we're going to use Pandas DataFrame since they provide an easy way of pretty-printing tabular data."
   ]
  },
  {
   "cell_type": "code",
   "execution_count": 84,
   "metadata": {
    "collapsed": false
   },
   "outputs": [
    {
     "data": {
      "text/html": [
       "<div>\n",
       "<table border=\"1\" class=\"dataframe\">\n",
       "  <thead>\n",
       "    <tr style=\"text-align: right;\">\n",
       "      <th></th>\n",
       "      <th>CustomerID</th>\n",
       "    </tr>\n",
       "  </thead>\n",
       "  <tbody>\n",
       "    <tr>\n",
       "      <th>0</th>\n",
       "      <td>ALFKI</td>\n",
       "    </tr>\n",
       "    <tr>\n",
       "      <th>1</th>\n",
       "      <td>ANATR</td>\n",
       "    </tr>\n",
       "    <tr>\n",
       "      <th>2</th>\n",
       "      <td>ANTON</td>\n",
       "    </tr>\n",
       "    <tr>\n",
       "      <th>3</th>\n",
       "      <td>AROUT</td>\n",
       "    </tr>\n",
       "    <tr>\n",
       "      <th>4</th>\n",
       "      <td>BERGS</td>\n",
       "    </tr>\n",
       "    <tr>\n",
       "      <th>5</th>\n",
       "      <td>BLAUS</td>\n",
       "    </tr>\n",
       "    <tr>\n",
       "      <th>6</th>\n",
       "      <td>BLONP</td>\n",
       "    </tr>\n",
       "    <tr>\n",
       "      <th>7</th>\n",
       "      <td>BOLID</td>\n",
       "    </tr>\n",
       "    <tr>\n",
       "      <th>8</th>\n",
       "      <td>BONAP</td>\n",
       "    </tr>\n",
       "    <tr>\n",
       "      <th>9</th>\n",
       "      <td>BOTTM</td>\n",
       "    </tr>\n",
       "  </tbody>\n",
       "</table>\n",
       "</div>"
      ],
      "text/plain": [
       "  CustomerID\n",
       "0      ALFKI\n",
       "1      ANATR\n",
       "2      ANTON\n",
       "3      AROUT\n",
       "4      BERGS\n",
       "5      BLAUS\n",
       "6      BLONP\n",
       "7      BOLID\n",
       "8      BONAP\n",
       "9      BOTTM"
      ]
     },
     "execution_count": 84,
     "metadata": {},
     "output_type": "execute_result"
    }
   ],
   "source": [
    "c = get_mongo_connection()\n",
    "customers = c.customers.find().sort('CustomerID', pymongo.ASCENDING)\n",
    "top10 = [customer['CustomerID'] for customer in customers][:10]\n",
    "pd.DataFrame(top10, columns=['CustomerID'])"
   ]
  },
  {
   "cell_type": "markdown",
   "metadata": {},
   "source": [
    "The list above shows the top 10 customer ids, sorted in ascending order, from the customer collection."
   ]
  },
  {
   "cell_type": "markdown",
   "metadata": {},
   "source": [
    "### Exercise 2"
   ]
  },
  {
   "cell_type": "code",
   "execution_count": null,
   "metadata": {
    "collapsed": false
   },
   "outputs": [],
   "source": [
    "cur.execute(\"SELECT * FROM customers AS c INNER JOIN orders AS o ON c.customerid=o.customerid where o.customerid='ALFKI'\")\n",
    "pd.DataFrame(cur.fetchall())"
   ]
  },
  {
   "cell_type": "code",
   "execution_count": null,
   "metadata": {
    "collapsed": false
   },
   "outputs": [],
   "source": [
    "for customer in c.customers.find({'CustomerID':'ALFKI'}):\n",
    "    for order in c.orders.find({'CustomerID': customer['CustomerID']}):\n",
    "        for details in c['order-details'].find({'OrderID': order['OrderID']}):\n",
    "            joined_result = order.copy()\n",
    "            joined_result.update(details)\n",
    "r = cur.fetchall()\n",
    "\n",
    "# Pretty print using pandas\n",
    "pd.DataFrame([joined_result.values()], columns=joined_result.keys())"
   ]
  },
  {
   "cell_type": "markdown",
   "metadata": {},
   "source": [
    "### Exercise 3\n",
    "_Get all orders (with products) made by ALFKI that contain at least 2 products._"
   ]
  },
  {
   "cell_type": "code",
   "execution_count": 15,
   "metadata": {
    "collapsed": true
   },
   "outputs": [],
   "source": [
    "import pandas as pd"
   ]
  },
  {
   "cell_type": "code",
   "execution_count": null,
   "metadata": {
    "collapsed": false
   },
   "outputs": [],
   "source": [
    "cur.execute('SELECT * FROM customers AS c INNER JOIN orders AS o ON c.customerid=o.customerid '\n",
    "                    ' INNER JOIN \"Order Details\" AS od ON od.orderid=o.orderid '\n",
    "                    ' INNER JOIN products AS p ON p.productid=od.productid '\n",
    "                    \" WHERE c.customerid='ALFKI'\"\n",
    "                    ' GROUP BY o.orderid HAVING count(distinct od.productid) >= 2')\n",
    "r = cur.fetchall()\n",
    "pd.DataFrame(r)"
   ]
  },
  {
   "cell_type": "code",
   "execution_count": null,
   "metadata": {
    "collapsed": false
   },
   "outputs": [],
   "source": [
    "from bson.code import Code\n",
    "c = get_mongo_connection()\n",
    "reducer = Code(\n",
    "        \"\"\"\n",
    "            function(obj, prev){\n",
    "              prev.count++;\n",
    "            }\n",
    "        \"\"\")\n",
    "orders = []\n",
    "for customer in c.customers.find({'CustomerID':'ALFKI'}):\n",
    "    for order in c.orders.find({'CustomerID': customer['CustomerID']}):\n",
    "        results = c['order-details'].group(key={\"OrderID\": 1}, condition={}, initial={\"count\": 0}, reduce=reducer)\n",
    "        for details in results:\n",
    "            if details['OrderID'] == order['OrderID'] and details['count'] >= 2:\n",
    "                orders.append(order)\n",
    "                joined_result = order.copy()\n",
    "                joined_result.update(details)\n",
    "                \n",
    "# Pretty print using pandas\n",
    "pd.DataFrame(orders)"
   ]
  },
  {
   "cell_type": "markdown",
   "metadata": {},
   "source": [
    "#### Exercise 4"
   ]
  },
  {
   "cell_type": "code",
   "execution_count": null,
   "metadata": {
    "collapsed": true
   },
   "outputs": [],
   "source": [
    "class TestExercise54(unittest.TestCase):\n",
    "    def test_sqlite_count_products(self):\n",
    "        conn = connect_sqlite()\n",
    "        cur = conn.cursor()\n",
    "        cur.execute('SELECT count(productid) FROM \"Order Details\" where productid=7')\n",
    "        print 'SQLite Count: ' + str(cur.fetchone()[0])\n",
    "\n",
    "    def test_mongo_count_products(self):\n",
    "        c = get_mongo_connection()\n",
    "        print 'MongoDB Count: ' + str(c['order-details'].find({'ProductID': 7}).count())"
   ]
  },
  {
   "cell_type": "markdown",
   "metadata": {},
   "source": [
    "#### Exercise 5"
   ]
  },
  {
   "cell_type": "code",
   "execution_count": 74,
   "metadata": {
    "collapsed": false
   },
   "outputs": [
    {
     "data": {
      "text/html": [
       "<div>\n",
       "<table border=\"1\" class=\"dataframe\">\n",
       "  <thead>\n",
       "    <tr style=\"text-align: right;\">\n",
       "      <th></th>\n",
       "      <th>count</th>\n",
       "      <th>ProductName</th>\n",
       "    </tr>\n",
       "  </thead>\n",
       "  <tbody>\n",
       "    <tr>\n",
       "      <th>0</th>\n",
       "      <td>8</td>\n",
       "      <td>Chai</td>\n",
       "    </tr>\n",
       "    <tr>\n",
       "      <th>1</th>\n",
       "      <td>18</td>\n",
       "      <td>Chang</td>\n",
       "    </tr>\n",
       "    <tr>\n",
       "      <th>2</th>\n",
       "      <td>7</td>\n",
       "      <td>Aniseed Syrup</td>\n",
       "    </tr>\n",
       "    <tr>\n",
       "      <th>3</th>\n",
       "      <td>6</td>\n",
       "      <td>Chef Anton's Cajun Seasoning</td>\n",
       "    </tr>\n",
       "    <tr>\n",
       "      <th>4</th>\n",
       "      <td>6</td>\n",
       "      <td>Chef Anton's Gumbo Mix</td>\n",
       "    </tr>\n",
       "    <tr>\n",
       "      <th>5</th>\n",
       "      <td>5</td>\n",
       "      <td>Grandma's Boysenberry Spread</td>\n",
       "    </tr>\n",
       "    <tr>\n",
       "      <th>6</th>\n",
       "      <td>29</td>\n",
       "      <td>Uncle Bob's Organic Dried Pears</td>\n",
       "    </tr>\n",
       "    <tr>\n",
       "      <th>7</th>\n",
       "      <td>5</td>\n",
       "      <td>Northwoods Cranberry Sauce</td>\n",
       "    </tr>\n",
       "    <tr>\n",
       "      <th>8</th>\n",
       "      <td>1</td>\n",
       "      <td>Mishi Kobe Niku</td>\n",
       "    </tr>\n",
       "    <tr>\n",
       "      <th>9</th>\n",
       "      <td>16</td>\n",
       "      <td>Ikura</td>\n",
       "    </tr>\n",
       "    <tr>\n",
       "      <th>10</th>\n",
       "      <td>12</td>\n",
       "      <td>Queso Cabrales</td>\n",
       "    </tr>\n",
       "    <tr>\n",
       "      <th>11</th>\n",
       "      <td>7</td>\n",
       "      <td>Queso Manchego La Pastora</td>\n",
       "    </tr>\n",
       "    <tr>\n",
       "      <th>12</th>\n",
       "      <td>15</td>\n",
       "      <td>Konbu</td>\n",
       "    </tr>\n",
       "    <tr>\n",
       "      <th>13</th>\n",
       "      <td>7</td>\n",
       "      <td>Tofu</td>\n",
       "    </tr>\n",
       "    <tr>\n",
       "      <th>14</th>\n",
       "      <td>2</td>\n",
       "      <td>Genen Shouyu</td>\n",
       "    </tr>\n",
       "    <tr>\n",
       "      <th>15</th>\n",
       "      <td>14</td>\n",
       "      <td>Pavlova</td>\n",
       "    </tr>\n",
       "    <tr>\n",
       "      <th>16</th>\n",
       "      <td>16</td>\n",
       "      <td>Alice Mutton</td>\n",
       "    </tr>\n",
       "    <tr>\n",
       "      <th>17</th>\n",
       "      <td>9</td>\n",
       "      <td>Carnarvon Tigers</td>\n",
       "    </tr>\n",
       "    <tr>\n",
       "      <th>18</th>\n",
       "      <td>9</td>\n",
       "      <td>Teatime Chocolate Biscuits</td>\n",
       "    </tr>\n",
       "    <tr>\n",
       "      <th>19</th>\n",
       "      <td>7</td>\n",
       "      <td>Sir Rodney's Marmalade</td>\n",
       "    </tr>\n",
       "    <tr>\n",
       "      <th>20</th>\n",
       "      <td>9</td>\n",
       "      <td>Sir Rodney's Scones</td>\n",
       "    </tr>\n",
       "    <tr>\n",
       "      <th>21</th>\n",
       "      <td>6</td>\n",
       "      <td>Gustaf's Kn�ckebr�d</td>\n",
       "    </tr>\n",
       "    <tr>\n",
       "      <th>22</th>\n",
       "      <td>8</td>\n",
       "      <td>Tunnbr�d</td>\n",
       "    </tr>\n",
       "    <tr>\n",
       "      <th>23</th>\n",
       "      <td>15</td>\n",
       "      <td>Guaran� Fant�stica</td>\n",
       "    </tr>\n",
       "    <tr>\n",
       "      <th>24</th>\n",
       "      <td>5</td>\n",
       "      <td>NuNuCa Nu�-Nougat-Creme</td>\n",
       "    </tr>\n",
       "    <tr>\n",
       "      <th>25</th>\n",
       "      <td>10</td>\n",
       "      <td>Gumb�r Gummib�rchen</td>\n",
       "    </tr>\n",
       "    <tr>\n",
       "      <th>26</th>\n",
       "      <td>4</td>\n",
       "      <td>Schoggi Schokolade</td>\n",
       "    </tr>\n",
       "    <tr>\n",
       "      <th>27</th>\n",
       "      <td>8</td>\n",
       "      <td>R�ssle Sauerkraut</td>\n",
       "    </tr>\n",
       "    <tr>\n",
       "      <th>28</th>\n",
       "      <td>10</td>\n",
       "      <td>Th�ringer Rostbratwurst</td>\n",
       "    </tr>\n",
       "    <tr>\n",
       "      <th>29</th>\n",
       "      <td>10</td>\n",
       "      <td>Nord-Ost Matjeshering</td>\n",
       "    </tr>\n",
       "    <tr>\n",
       "      <th>...</th>\n",
       "      <td>...</td>\n",
       "      <td>...</td>\n",
       "    </tr>\n",
       "    <tr>\n",
       "      <th>46</th>\n",
       "      <td>10</td>\n",
       "      <td>Zaanse koeken</td>\n",
       "    </tr>\n",
       "    <tr>\n",
       "      <th>47</th>\n",
       "      <td>2</td>\n",
       "      <td>Chocolade</td>\n",
       "    </tr>\n",
       "    <tr>\n",
       "      <th>48</th>\n",
       "      <td>7</td>\n",
       "      <td>Maxilaku</td>\n",
       "    </tr>\n",
       "    <tr>\n",
       "      <th>49</th>\n",
       "      <td>2</td>\n",
       "      <td>Valkoinen suklaa</td>\n",
       "    </tr>\n",
       "    <tr>\n",
       "      <th>50</th>\n",
       "      <td>16</td>\n",
       "      <td>Manjimup Dried Apples</td>\n",
       "    </tr>\n",
       "    <tr>\n",
       "      <th>51</th>\n",
       "      <td>7</td>\n",
       "      <td>Filo Mix</td>\n",
       "    </tr>\n",
       "    <tr>\n",
       "      <th>52</th>\n",
       "      <td>8</td>\n",
       "      <td>Perth Pasties</td>\n",
       "    </tr>\n",
       "    <tr>\n",
       "      <th>53</th>\n",
       "      <td>13</td>\n",
       "      <td>Tourti�re</td>\n",
       "    </tr>\n",
       "    <tr>\n",
       "      <th>54</th>\n",
       "      <td>12</td>\n",
       "      <td>P�t� chinois</td>\n",
       "    </tr>\n",
       "    <tr>\n",
       "      <th>55</th>\n",
       "      <td>18</td>\n",
       "      <td>Gnocchi di nonna Alice</td>\n",
       "    </tr>\n",
       "    <tr>\n",
       "      <th>56</th>\n",
       "      <td>8</td>\n",
       "      <td>Ravioli Angelo</td>\n",
       "    </tr>\n",
       "    <tr>\n",
       "      <th>57</th>\n",
       "      <td>4</td>\n",
       "      <td>Escargots de Bourgogne</td>\n",
       "    </tr>\n",
       "    <tr>\n",
       "      <th>58</th>\n",
       "      <td>19</td>\n",
       "      <td>Raclette Courdavault</td>\n",
       "    </tr>\n",
       "    <tr>\n",
       "      <th>59</th>\n",
       "      <td>19</td>\n",
       "      <td>Camembert Pierrot</td>\n",
       "    </tr>\n",
       "    <tr>\n",
       "      <th>60</th>\n",
       "      <td>7</td>\n",
       "      <td>Sirop d'�rable</td>\n",
       "    </tr>\n",
       "    <tr>\n",
       "      <th>61</th>\n",
       "      <td>22</td>\n",
       "      <td>Tarte au sucre</td>\n",
       "    </tr>\n",
       "    <tr>\n",
       "      <th>62</th>\n",
       "      <td>7</td>\n",
       "      <td>Vegie-spread</td>\n",
       "    </tr>\n",
       "    <tr>\n",
       "      <th>63</th>\n",
       "      <td>13</td>\n",
       "      <td>Wimmers gute Semmelkn�del</td>\n",
       "    </tr>\n",
       "    <tr>\n",
       "      <th>64</th>\n",
       "      <td>12</td>\n",
       "      <td>Louisiana Fiery Hot Pepper Sauce</td>\n",
       "    </tr>\n",
       "    <tr>\n",
       "      <th>65</th>\n",
       "      <td>4</td>\n",
       "      <td>Louisiana Hot Spiced Okra</td>\n",
       "    </tr>\n",
       "    <tr>\n",
       "      <th>66</th>\n",
       "      <td>14</td>\n",
       "      <td>Scottish Longbreads</td>\n",
       "    </tr>\n",
       "    <tr>\n",
       "      <th>67</th>\n",
       "      <td>9</td>\n",
       "      <td>Gudbrandsdalsost</td>\n",
       "    </tr>\n",
       "    <tr>\n",
       "      <th>68</th>\n",
       "      <td>13</td>\n",
       "      <td>Outback Lager</td>\n",
       "    </tr>\n",
       "    <tr>\n",
       "      <th>69</th>\n",
       "      <td>16</td>\n",
       "      <td>Flotemysost</td>\n",
       "    </tr>\n",
       "    <tr>\n",
       "      <th>70</th>\n",
       "      <td>16</td>\n",
       "      <td>Mozzarella di Giovanni</td>\n",
       "    </tr>\n",
       "    <tr>\n",
       "      <th>71</th>\n",
       "      <td>4</td>\n",
       "      <td>R�d Kaviar</td>\n",
       "    </tr>\n",
       "    <tr>\n",
       "      <th>72</th>\n",
       "      <td>5</td>\n",
       "      <td>Longlife Tofu</td>\n",
       "    </tr>\n",
       "    <tr>\n",
       "      <th>73</th>\n",
       "      <td>17</td>\n",
       "      <td>Rh�nbr�u Klosterbier</td>\n",
       "    </tr>\n",
       "    <tr>\n",
       "      <th>74</th>\n",
       "      <td>12</td>\n",
       "      <td>Lakkalik��ri</td>\n",
       "    </tr>\n",
       "    <tr>\n",
       "      <th>75</th>\n",
       "      <td>15</td>\n",
       "      <td>Original Frankfurter gr�ne So�e</td>\n",
       "    </tr>\n",
       "  </tbody>\n",
       "</table>\n",
       "<p>76 rows × 2 columns</p>\n",
       "</div>"
      ],
      "text/plain": [
       "    count                       ProductName\n",
       "0       8                              Chai\n",
       "1      18                             Chang\n",
       "2       7                     Aniseed Syrup\n",
       "3       6      Chef Anton's Cajun Seasoning\n",
       "4       6            Chef Anton's Gumbo Mix\n",
       "5       5      Grandma's Boysenberry Spread\n",
       "6      29   Uncle Bob's Organic Dried Pears\n",
       "7       5        Northwoods Cranberry Sauce\n",
       "8       1                   Mishi Kobe Niku\n",
       "9      16                             Ikura\n",
       "10     12                    Queso Cabrales\n",
       "11      7         Queso Manchego La Pastora\n",
       "12     15                             Konbu\n",
       "13      7                              Tofu\n",
       "14      2                      Genen Shouyu\n",
       "15     14                           Pavlova\n",
       "16     16                      Alice Mutton\n",
       "17      9                  Carnarvon Tigers\n",
       "18      9        Teatime Chocolate Biscuits\n",
       "19      7            Sir Rodney's Marmalade\n",
       "20      9               Sir Rodney's Scones\n",
       "21      6               Gustaf's Kn�ckebr�d\n",
       "22      8                          Tunnbr�d\n",
       "23     15                Guaran� Fant�stica\n",
       "24      5           NuNuCa Nu�-Nougat-Creme\n",
       "25     10               Gumb�r Gummib�rchen\n",
       "26      4                Schoggi Schokolade\n",
       "27      8                 R�ssle Sauerkraut\n",
       "28     10           Th�ringer Rostbratwurst\n",
       "29     10             Nord-Ost Matjeshering\n",
       "..    ...                               ...\n",
       "46     10                     Zaanse koeken\n",
       "47      2                         Chocolade\n",
       "48      7                          Maxilaku\n",
       "49      2                  Valkoinen suklaa\n",
       "50     16             Manjimup Dried Apples\n",
       "51      7                          Filo Mix\n",
       "52      8                     Perth Pasties\n",
       "53     13                         Tourti�re\n",
       "54     12                      P�t� chinois\n",
       "55     18            Gnocchi di nonna Alice\n",
       "56      8                    Ravioli Angelo\n",
       "57      4            Escargots de Bourgogne\n",
       "58     19              Raclette Courdavault\n",
       "59     19                 Camembert Pierrot\n",
       "60      7                    Sirop d'�rable\n",
       "61     22                    Tarte au sucre\n",
       "62      7                      Vegie-spread\n",
       "63     13         Wimmers gute Semmelkn�del\n",
       "64     12  Louisiana Fiery Hot Pepper Sauce\n",
       "65      4         Louisiana Hot Spiced Okra\n",
       "66     14               Scottish Longbreads\n",
       "67      9                  Gudbrandsdalsost\n",
       "68     13                     Outback Lager\n",
       "69     16                       Flotemysost\n",
       "70     16            Mozzarella di Giovanni\n",
       "71      4                        R�d Kaviar\n",
       "72      5                     Longlife Tofu\n",
       "73     17              Rh�nbr�u Klosterbier\n",
       "74     12                      Lakkalik��ri\n",
       "75     15   Original Frankfurter gr�ne So�e\n",
       "\n",
       "[76 rows x 2 columns]"
      ]
     },
     "execution_count": 74,
     "metadata": {},
     "output_type": "execute_result"
    }
   ],
   "source": [
    "stmt = \"\"\"\n",
    "SELECT count(p.productid), p.productname FROM orders\n",
    "INNER JOIN [Order Details] AS od ON od.orderid=orders.orderid\n",
    "INNER JOIN products AS p ON p.productid=od.productid\n",
    "WHERE CustomerID IN\n",
    "            (SELECT CustomerID FROM orders\n",
    "             INNER JOIN [Order Details] ON [Order Details].orderid=orders.orderid\n",
    "             WHERE [Order Details].productid=7)\n",
    "GROUP BY od.productid\n",
    "\"\"\"\n",
    "cur.execute(stmt)\n",
    "#print list(cur.fetchall())\n",
    "df_sql = pd.DataFrame(cur.fetchall(), columns=['count','ProductName'])\n",
    "df_sql"
   ]
  },
  {
   "cell_type": "code",
   "execution_count": null,
   "metadata": {
    "collapsed": true
   },
   "outputs": [],
   "source": []
  },
  {
   "cell_type": "code",
   "execution_count": 75,
   "metadata": {
    "collapsed": false
   },
   "outputs": [
    {
     "data": {
      "text/html": [
       "<div>\n",
       "<table border=\"1\" class=\"dataframe\">\n",
       "  <thead>\n",
       "    <tr style=\"text-align: right;\">\n",
       "      <th></th>\n",
       "      <th>ProductName</th>\n",
       "    </tr>\n",
       "  </thead>\n",
       "  <tbody>\n",
       "    <tr>\n",
       "      <th>38</th>\n",
       "      <td>Alice Mutton</td>\n",
       "    </tr>\n",
       "    <tr>\n",
       "      <th>75</th>\n",
       "      <td>Aniseed Syrup</td>\n",
       "    </tr>\n",
       "    <tr>\n",
       "      <th>42</th>\n",
       "      <td>Boston Crab Meat</td>\n",
       "    </tr>\n",
       "    <tr>\n",
       "      <th>31</th>\n",
       "      <td>Camembert Pierrot</td>\n",
       "    </tr>\n",
       "    <tr>\n",
       "      <th>59</th>\n",
       "      <td>Carnarvon Tigers</td>\n",
       "    </tr>\n",
       "    <tr>\n",
       "      <th>2</th>\n",
       "      <td>Chai</td>\n",
       "    </tr>\n",
       "    <tr>\n",
       "      <th>53</th>\n",
       "      <td>Chang</td>\n",
       "    </tr>\n",
       "    <tr>\n",
       "      <th>9</th>\n",
       "      <td>Chartreuse verte</td>\n",
       "    </tr>\n",
       "    <tr>\n",
       "      <th>0</th>\n",
       "      <td>Chef Anton's Cajun Seasoning</td>\n",
       "    </tr>\n",
       "    <tr>\n",
       "      <th>19</th>\n",
       "      <td>Chef Anton's Gumbo Mix</td>\n",
       "    </tr>\n",
       "    <tr>\n",
       "      <th>44</th>\n",
       "      <td>Chocolade</td>\n",
       "    </tr>\n",
       "    <tr>\n",
       "      <th>14</th>\n",
       "      <td>Côte de Blaye</td>\n",
       "    </tr>\n",
       "    <tr>\n",
       "      <th>63</th>\n",
       "      <td>Escargots de Bourgogne</td>\n",
       "    </tr>\n",
       "    <tr>\n",
       "      <th>27</th>\n",
       "      <td>Filo Mix</td>\n",
       "    </tr>\n",
       "    <tr>\n",
       "      <th>45</th>\n",
       "      <td>Flotemysost</td>\n",
       "    </tr>\n",
       "    <tr>\n",
       "      <th>21</th>\n",
       "      <td>Geitost</td>\n",
       "    </tr>\n",
       "    <tr>\n",
       "      <th>36</th>\n",
       "      <td>Genen Shouyu</td>\n",
       "    </tr>\n",
       "    <tr>\n",
       "      <th>70</th>\n",
       "      <td>Gnocchi di nonna Alice</td>\n",
       "    </tr>\n",
       "    <tr>\n",
       "      <th>73</th>\n",
       "      <td>Gorgonzola Telino</td>\n",
       "    </tr>\n",
       "    <tr>\n",
       "      <th>4</th>\n",
       "      <td>Grandma's Boysenberry Spread</td>\n",
       "    </tr>\n",
       "    <tr>\n",
       "      <th>50</th>\n",
       "      <td>Gravad lax</td>\n",
       "    </tr>\n",
       "    <tr>\n",
       "      <th>12</th>\n",
       "      <td>Guaraná Fantástica</td>\n",
       "    </tr>\n",
       "    <tr>\n",
       "      <th>72</th>\n",
       "      <td>Gudbrandsdalsost</td>\n",
       "    </tr>\n",
       "    <tr>\n",
       "      <th>54</th>\n",
       "      <td>Gula Malacca</td>\n",
       "    </tr>\n",
       "    <tr>\n",
       "      <th>61</th>\n",
       "      <td>Gumbär Gummibärchen</td>\n",
       "    </tr>\n",
       "    <tr>\n",
       "      <th>1</th>\n",
       "      <td>Gustaf's Knäckebröd</td>\n",
       "    </tr>\n",
       "    <tr>\n",
       "      <th>28</th>\n",
       "      <td>Ikura</td>\n",
       "    </tr>\n",
       "    <tr>\n",
       "      <th>52</th>\n",
       "      <td>Inlagd Sill</td>\n",
       "    </tr>\n",
       "    <tr>\n",
       "      <th>20</th>\n",
       "      <td>Ipoh Coffee</td>\n",
       "    </tr>\n",
       "    <tr>\n",
       "      <th>33</th>\n",
       "      <td>Jack's New England Clam Chowder</td>\n",
       "    </tr>\n",
       "    <tr>\n",
       "      <th>...</th>\n",
       "      <td>...</td>\n",
       "    </tr>\n",
       "    <tr>\n",
       "      <th>62</th>\n",
       "      <td>Perth Pasties</td>\n",
       "    </tr>\n",
       "    <tr>\n",
       "      <th>47</th>\n",
       "      <td>Pâté chinois</td>\n",
       "    </tr>\n",
       "    <tr>\n",
       "      <th>3</th>\n",
       "      <td>Queso Cabrales</td>\n",
       "    </tr>\n",
       "    <tr>\n",
       "      <th>15</th>\n",
       "      <td>Queso Manchego La Pastora</td>\n",
       "    </tr>\n",
       "    <tr>\n",
       "      <th>48</th>\n",
       "      <td>Raclette Courdavault</td>\n",
       "    </tr>\n",
       "    <tr>\n",
       "      <th>41</th>\n",
       "      <td>Ravioli Angelo</td>\n",
       "    </tr>\n",
       "    <tr>\n",
       "      <th>8</th>\n",
       "      <td>Rhönbräu Klosterbier</td>\n",
       "    </tr>\n",
       "    <tr>\n",
       "      <th>65</th>\n",
       "      <td>Rogede sild</td>\n",
       "    </tr>\n",
       "    <tr>\n",
       "      <th>66</th>\n",
       "      <td>Röd Kaviar</td>\n",
       "    </tr>\n",
       "    <tr>\n",
       "      <th>30</th>\n",
       "      <td>Rössle Sauerkraut</td>\n",
       "    </tr>\n",
       "    <tr>\n",
       "      <th>16</th>\n",
       "      <td>Sasquatch Ale</td>\n",
       "    </tr>\n",
       "    <tr>\n",
       "      <th>57</th>\n",
       "      <td>Schoggi Schokolade</td>\n",
       "    </tr>\n",
       "    <tr>\n",
       "      <th>64</th>\n",
       "      <td>Scottish Longbreads</td>\n",
       "    </tr>\n",
       "    <tr>\n",
       "      <th>11</th>\n",
       "      <td>Singaporean Hokkien Fried Mee</td>\n",
       "    </tr>\n",
       "    <tr>\n",
       "      <th>74</th>\n",
       "      <td>Sir Rodney's Marmalade</td>\n",
       "    </tr>\n",
       "    <tr>\n",
       "      <th>32</th>\n",
       "      <td>Sir Rodney's Scones</td>\n",
       "    </tr>\n",
       "    <tr>\n",
       "      <th>26</th>\n",
       "      <td>Sirop d'érable</td>\n",
       "    </tr>\n",
       "    <tr>\n",
       "      <th>7</th>\n",
       "      <td>Spegesild</td>\n",
       "    </tr>\n",
       "    <tr>\n",
       "      <th>46</th>\n",
       "      <td>Steeleye Stout</td>\n",
       "    </tr>\n",
       "    <tr>\n",
       "      <th>18</th>\n",
       "      <td>Tarte au sucre</td>\n",
       "    </tr>\n",
       "    <tr>\n",
       "      <th>22</th>\n",
       "      <td>Teatime Chocolate Biscuits</td>\n",
       "    </tr>\n",
       "    <tr>\n",
       "      <th>29</th>\n",
       "      <td>Thüringer Rostbratwurst</td>\n",
       "    </tr>\n",
       "    <tr>\n",
       "      <th>5</th>\n",
       "      <td>Tofu</td>\n",
       "    </tr>\n",
       "    <tr>\n",
       "      <th>51</th>\n",
       "      <td>Tourtière</td>\n",
       "    </tr>\n",
       "    <tr>\n",
       "      <th>71</th>\n",
       "      <td>Tunnbröd</td>\n",
       "    </tr>\n",
       "    <tr>\n",
       "      <th>69</th>\n",
       "      <td>Uncle Bob's Organic Dried Pears</td>\n",
       "    </tr>\n",
       "    <tr>\n",
       "      <th>56</th>\n",
       "      <td>Valkoinen suklaa</td>\n",
       "    </tr>\n",
       "    <tr>\n",
       "      <th>55</th>\n",
       "      <td>Vegie-spread</td>\n",
       "    </tr>\n",
       "    <tr>\n",
       "      <th>58</th>\n",
       "      <td>Wimmers gute Semmelknödel</td>\n",
       "    </tr>\n",
       "    <tr>\n",
       "      <th>35</th>\n",
       "      <td>Zaanse koeken</td>\n",
       "    </tr>\n",
       "  </tbody>\n",
       "</table>\n",
       "<p>76 rows × 1 columns</p>\n",
       "</div>"
      ],
      "text/plain": [
       "                        ProductName\n",
       "38                     Alice Mutton\n",
       "75                    Aniseed Syrup\n",
       "42                 Boston Crab Meat\n",
       "31                Camembert Pierrot\n",
       "59                 Carnarvon Tigers\n",
       "2                              Chai\n",
       "53                            Chang\n",
       "9                  Chartreuse verte\n",
       "0      Chef Anton's Cajun Seasoning\n",
       "19           Chef Anton's Gumbo Mix\n",
       "44                        Chocolade\n",
       "14                    Côte de Blaye\n",
       "63           Escargots de Bourgogne\n",
       "27                         Filo Mix\n",
       "45                      Flotemysost\n",
       "21                          Geitost\n",
       "36                     Genen Shouyu\n",
       "70           Gnocchi di nonna Alice\n",
       "73                Gorgonzola Telino\n",
       "4      Grandma's Boysenberry Spread\n",
       "50                       Gravad lax\n",
       "12               Guaraná Fantástica\n",
       "72                 Gudbrandsdalsost\n",
       "54                     Gula Malacca\n",
       "61              Gumbär Gummibärchen\n",
       "1               Gustaf's Knäckebröd\n",
       "28                            Ikura\n",
       "52                      Inlagd Sill\n",
       "20                      Ipoh Coffee\n",
       "33  Jack's New England Clam Chowder\n",
       "..                              ...\n",
       "62                    Perth Pasties\n",
       "47                     Pâté chinois\n",
       "3                    Queso Cabrales\n",
       "15        Queso Manchego La Pastora\n",
       "48             Raclette Courdavault\n",
       "41                   Ravioli Angelo\n",
       "8              Rhönbräu Klosterbier\n",
       "65                      Rogede sild\n",
       "66                       Röd Kaviar\n",
       "30                Rössle Sauerkraut\n",
       "16                    Sasquatch Ale\n",
       "57               Schoggi Schokolade\n",
       "64              Scottish Longbreads\n",
       "11    Singaporean Hokkien Fried Mee\n",
       "74           Sir Rodney's Marmalade\n",
       "32              Sir Rodney's Scones\n",
       "26                   Sirop d'érable\n",
       "7                         Spegesild\n",
       "46                   Steeleye Stout\n",
       "18                   Tarte au sucre\n",
       "22       Teatime Chocolate Biscuits\n",
       "29          Thüringer Rostbratwurst\n",
       "5                              Tofu\n",
       "51                        Tourtière\n",
       "71                         Tunnbröd\n",
       "69  Uncle Bob's Organic Dried Pears\n",
       "56                 Valkoinen suklaa\n",
       "55                     Vegie-spread\n",
       "58        Wimmers gute Semmelknödel\n",
       "35                    Zaanse koeken\n",
       "\n",
       "[76 rows x 1 columns]"
      ]
     },
     "execution_count": 75,
     "metadata": {},
     "output_type": "execute_result"
    }
   ],
   "source": [
    "c = get_mongo_connection()\n",
    "from bson.code import Code\n",
    "reducer = Code(\n",
    "        \"\"\"\n",
    "            function(obj, prev){\n",
    "              prev.count++;\n",
    "            }\n",
    "        \"\"\")\n",
    "#results = c['order-details'].group(key={\"ProductID\": 1, 'CustomerID':2}, condition={}, initial={\"count\": 0}, reduce=reducer)\n",
    "#for x in results:\n",
    "#    print x\n",
    "customers = {}\n",
    "products = {}\n",
    "for details in c['order-details'].find({'ProductID': 7}):\n",
    "    for order in c.orders.find({'OrderID':details['OrderID']}):\n",
    "        customers[order['CustomerID']]= 0\n",
    "\n",
    "for customer_id in customers.keys():\n",
    "    for r in c.orders.find():\n",
    "        if r['CustomerID'] == customer_id:\n",
    "            for details in c['order-details'].find({'OrderID':r['OrderID']}):\n",
    "\n",
    "                product_name = c.products.find({'ProductID': details['ProductID']})[0]['ProductName']\n",
    "\n",
    "                if product_name in products.keys():\n",
    "                    products[product_name] += 1\n",
    "                else:\n",
    "                    products[product_name] = 1\n",
    "\n",
    "df_mongo = pd.DataFrame(products.keys(), columns=['ProductName']).sort('ProductName')\n",
    "df_mongo"
   ]
  },
  {
   "cell_type": "code",
   "execution_count": null,
   "metadata": {
    "collapsed": true
   },
   "outputs": [],
   "source": []
  },
  {
   "cell_type": "code",
   "execution_count": null,
   "metadata": {
    "collapsed": true
   },
   "outputs": [],
   "source": []
  }
 ],
 "metadata": {
  "kernelspec": {
   "display_name": "Python 2",
   "language": "python",
   "name": "python2"
  },
  "language_info": {
   "codemirror_mode": {
    "name": "ipython",
    "version": 2
   },
   "file_extension": ".py",
   "mimetype": "text/x-python",
   "name": "python",
   "nbconvert_exporter": "python",
   "pygments_lexer": "ipython2",
   "version": "2.7.10"
  }
 },
 "nbformat": 4,
 "nbformat_minor": 0
}
