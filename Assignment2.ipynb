{
 "cells": [
  {
   "cell_type": "markdown",
   "metadata": {},
   "source": [
    "# Assignment 2"
   ]
  },
  {
   "cell_type": "markdown",
   "metadata": {},
   "source": [
    "This assignment will be concerned with demonstrating the following course contents:\n",
    "* Relational databases (SQL) and MongoDB (NoSQL)\n",
    "* Graph Databases\n",
    "* Streaming algorithms\n",
    "\n"
   ]
  },
  {
   "cell_type": "markdown",
   "metadata": {},
   "source": [
    "## SQL and NoSQL"
   ]
  },
  {
   "cell_type": "markdown",
   "metadata": {},
   "source": [
    "SQL databases has over the last decades been the core norm of persisting data into non-volatile memory. Although SQL is a great way to represent certain data sets, it can be quite time expensive when queries starts to compute a high number of large cartesian products between tables. To mitigate some of these performance problems, there has been an increasing interest within the area of NoSQL (i.e. a database that is not meant to have normalized relations). MongoDB is a popular NoSQL database and provides a schema-less persistency of the data in a json-like format (called bson). In contrary to SQL, the data in a NoSQL database should be denormalized as much as possible (that is, you should store it wihin a nested structure). This makes MongoDB especially interesting when storing large documents or highly detailed log-files with a high throughput."
   ]
  },
  {
   "cell_type": "markdown",
   "metadata": {},
   "source": [
    "In this exercise we're going to use the Northwind database. To give the reader a idea of how this database looks like, from a relational perspective, a ER diagram is displayed below."
   ]
  },
  {
   "cell_type": "markdown",
   "metadata": {},
   "source": [
    "<img src=\"http://i3.codeplex.com/download?ProjectName=northwinddatabase&DownloadId=269240\" width=\"800\" height=\"800\" />"
   ]
  },
  {
   "cell_type": "markdown",
   "metadata": {},
   "source": [
    "The equivalent MongoDB database, that we are going to use, has onfortunately not been denormalized into one collection. Because of this, the way MongoDB is being used in this exercise is somehow _a special case_."
   ]
  },
  {
   "cell_type": "markdown",
   "metadata": {},
   "source": [
    "### Exercise 1"
   ]
  },
  {
   "cell_type": "markdown",
   "metadata": {},
   "source": [
    "_Task: Establish connection to MongoDB and SQLite_"
   ]
  },
  {
   "cell_type": "markdown",
   "metadata": {},
   "source": [
    "In the first exercise, we are going to make a basic connection to both SQLite (a light-weight SQL engine that persists data into files) and to MongoDB."
   ]
  },
  {
   "cell_type": "markdown",
   "metadata": {},
   "source": [
    "#### Connection to SQLite"
   ]
  },
  {
   "cell_type": "markdown",
   "metadata": {},
   "source": [
    "The first thing we need to do, is to import sqlite3, which is the Python module we're going to use."
   ]
  },
  {
   "cell_type": "code",
   "execution_count": 121,
   "metadata": {
    "collapsed": true
   },
   "outputs": [],
   "source": [
    "import sqlite3 as lite"
   ]
  },
  {
   "cell_type": "markdown",
   "metadata": {},
   "source": [
    "We can create a small function that returns a connection to the northwind.db (a file in the same directory)."
   ]
  },
  {
   "cell_type": "code",
   "execution_count": 122,
   "metadata": {
    "collapsed": true
   },
   "outputs": [],
   "source": [
    "def get_sqlite_connection():\n",
    "    conn = lite.connect('northwind.db')\n",
    "    conn.text_factory = str\n",
    "    return conn"
   ]
  },
  {
   "cell_type": "markdown",
   "metadata": {},
   "source": [
    "From here on, getting a connection to the SQLite DB is easy..."
   ]
  },
  {
   "cell_type": "code",
   "execution_count": 123,
   "metadata": {
    "collapsed": true
   },
   "outputs": [],
   "source": [
    "conn = get_sqlite_connection()"
   ]
  },
  {
   "cell_type": "markdown",
   "metadata": {},
   "source": [
    "Given the `conn` object we can create a cursor, which is used to query the database."
   ]
  },
  {
   "cell_type": "code",
   "execution_count": 124,
   "metadata": {
    "collapsed": true
   },
   "outputs": [],
   "source": [
    "cur = conn.cursor()"
   ]
  },
  {
   "cell_type": "markdown",
   "metadata": {},
   "source": [
    "Using the cursor `cur` we can can retrieve all the products by making the sql query `SELECT * FROM PRODUCTS`."
   ]
  },
  {
   "cell_type": "code",
   "execution_count": 125,
   "metadata": {
    "collapsed": false
   },
   "outputs": [
    {
     "data": {
      "text/plain": [
       "<sqlite3.Cursor at 0x106c00570>"
      ]
     },
     "execution_count": 125,
     "metadata": {},
     "output_type": "execute_result"
    }
   ],
   "source": [
    "cur.execute('SELECT * FROM PRODUCTS')"
   ]
  },
  {
   "cell_type": "markdown",
   "metadata": {},
   "source": [
    "The query has been executed and the result set can be obtained by calling fetchall. Here, we are just going to see the first element."
   ]
  },
  {
   "cell_type": "code",
   "execution_count": 126,
   "metadata": {
    "collapsed": false
   },
   "outputs": [
    {
     "data": {
      "text/plain": [
       "[(1, 'Chai', 1, 1, '10 boxes x 20 bags', 18, 39, 0, 10, '0')]"
      ]
     },
     "execution_count": 126,
     "metadata": {},
     "output_type": "execute_result"
    }
   ],
   "source": [
    "cur.fetchall()[:1] # Take the first element"
   ]
  },
  {
   "cell_type": "markdown",
   "metadata": {},
   "source": [
    "We can query the database once again, this time, however, we are going to sort the result set using the `customerid`, which is a column in the table `CUSTOMERS`."
   ]
  },
  {
   "cell_type": "code",
   "execution_count": 127,
   "metadata": {
    "collapsed": false
   },
   "outputs": [
    {
     "data": {
      "text/plain": [
       "[('ALFKI',\n",
       "  'Alfreds Futterkiste',\n",
       "  'Maria Anders',\n",
       "  'Sales Representative',\n",
       "  'Obere Str. 57',\n",
       "  'Berlin',\n",
       "  None,\n",
       "  '12209',\n",
       "  'Germany',\n",
       "  '030-0074321',\n",
       "  '030-0076545')]"
      ]
     },
     "execution_count": 127,
     "metadata": {},
     "output_type": "execute_result"
    }
   ],
   "source": [
    "cur.execute('SELECT * FROM customers ORDER BY customerid ASC')\n",
    "cur.fetchall()[:1]"
   ]
  },
  {
   "cell_type": "markdown",
   "metadata": {},
   "source": [
    "#### Connection to MongoDB"
   ]
  },
  {
   "cell_type": "markdown",
   "metadata": {},
   "source": [
    "Connecting to MongoDB is slightly more difficult, than connecting to a SQLite DB, since MongoDB is a client-server database engine and has to be configured."
   ]
  },
  {
   "cell_type": "markdown",
   "metadata": {},
   "source": [
    "First, we need to install MongoDB. After MongoDB is installed, we need to run a shell script that imports the northwind database into MongoDB. After this, we can start the MongoDB service on localhost and the default port using `mongod` in bash."
   ]
  },
  {
   "cell_type": "markdown",
   "metadata": {},
   "source": [
    "<img src=\"img/mongod-service-start.png\" width=\"800\" height=\"800\" />"
   ]
  },
  {
   "cell_type": "markdown",
   "metadata": {},
   "source": [
    "After we've done this, we can `pip install pymongo`, and we are finally ready to start interacting with Northwind MongoDB through Python."
   ]
  },
  {
   "cell_type": "code",
   "execution_count": 99,
   "metadata": {
    "collapsed": true
   },
   "outputs": [],
   "source": [
    "from pymongo import MongoClient\n",
    "import pymongo\n",
    "import pandas as pd"
   ]
  },
  {
   "cell_type": "markdown",
   "metadata": {},
   "source": [
    "We can create a function, that connects to MongoDB and then returns a connection to \"Nortwind\""
   ]
  },
  {
   "cell_type": "code",
   "execution_count": 100,
   "metadata": {
    "collapsed": false
   },
   "outputs": [],
   "source": [
    "def get_mongo_connection():\n",
    "    client=MongoClient('localhost',27017)\n",
    "    return client['Northwind']   # Get the database"
   ]
  },
  {
   "cell_type": "markdown",
   "metadata": {},
   "source": [
    "At this point, we can easily make return an MongoDB conn instance"
   ]
  },
  {
   "cell_type": "code",
   "execution_count": 101,
   "metadata": {
    "collapsed": true
   },
   "outputs": [],
   "source": [
    "c = get_mongo_connection()"
   ]
  },
  {
   "cell_type": "markdown",
   "metadata": {},
   "source": [
    "We have established a connection and can use it to retrieve all the products and list the first entry."
   ]
  },
  {
   "cell_type": "code",
   "execution_count": 102,
   "metadata": {
    "collapsed": false
   },
   "outputs": [
    {
     "data": {
      "text/plain": [
       "{u'CategoryID': 1,\n",
       " u'Discontinued': 0,\n",
       " u'ProductID': 1,\n",
       " u'ProductName': u'Chai',\n",
       " u'QuantityPerUnit': u'10 boxes x 20 bags',\n",
       " u'ReorderLevel': 10,\n",
       " u'SupplierID': 1,\n",
       " u'UnitPrice': 18.0,\n",
       " u'UnitsInStock': 39,\n",
       " u'UnitsOnOrder': 0,\n",
       " u'_id': ObjectId('5609b12899ded9537b06c7e5')}"
      ]
     },
     "execution_count": 102,
     "metadata": {},
     "output_type": "execute_result"
    }
   ],
   "source": [
    "products = c.products.find()\n",
    "list(products)[0]"
   ]
  },
  {
   "cell_type": "markdown",
   "metadata": {},
   "source": [
    "Although, this is just a dict, it can be easily seen as a bson object, which is the original way that MongoDB persists data."
   ]
  },
  {
   "cell_type": "markdown",
   "metadata": {},
   "source": [
    "If we wanted to make yet another query, but this time we wanted to sort the result, we can apply a sort filter to a specific bson key. From here on, we're going to use Pandas DataFrame since they provide an easy way of pretty-printing tabular data."
   ]
  },
  {
   "cell_type": "code",
   "execution_count": 103,
   "metadata": {
    "collapsed": false
   },
   "outputs": [
    {
     "data": {
      "text/html": [
       "<div>\n",
       "<table border=\"1\" class=\"dataframe\">\n",
       "  <thead>\n",
       "    <tr style=\"text-align: right;\">\n",
       "      <th></th>\n",
       "      <th>CustomerID</th>\n",
       "    </tr>\n",
       "  </thead>\n",
       "  <tbody>\n",
       "    <tr>\n",
       "      <th>0</th>\n",
       "      <td>ALFKI</td>\n",
       "    </tr>\n",
       "    <tr>\n",
       "      <th>1</th>\n",
       "      <td>ANATR</td>\n",
       "    </tr>\n",
       "    <tr>\n",
       "      <th>2</th>\n",
       "      <td>ANTON</td>\n",
       "    </tr>\n",
       "    <tr>\n",
       "      <th>3</th>\n",
       "      <td>AROUT</td>\n",
       "    </tr>\n",
       "    <tr>\n",
       "      <th>4</th>\n",
       "      <td>BERGS</td>\n",
       "    </tr>\n",
       "    <tr>\n",
       "      <th>5</th>\n",
       "      <td>BLAUS</td>\n",
       "    </tr>\n",
       "    <tr>\n",
       "      <th>6</th>\n",
       "      <td>BLONP</td>\n",
       "    </tr>\n",
       "    <tr>\n",
       "      <th>7</th>\n",
       "      <td>BOLID</td>\n",
       "    </tr>\n",
       "    <tr>\n",
       "      <th>8</th>\n",
       "      <td>BONAP</td>\n",
       "    </tr>\n",
       "    <tr>\n",
       "      <th>9</th>\n",
       "      <td>BOTTM</td>\n",
       "    </tr>\n",
       "  </tbody>\n",
       "</table>\n",
       "</div>"
      ],
      "text/plain": [
       "  CustomerID\n",
       "0      ALFKI\n",
       "1      ANATR\n",
       "2      ANTON\n",
       "3      AROUT\n",
       "4      BERGS\n",
       "5      BLAUS\n",
       "6      BLONP\n",
       "7      BOLID\n",
       "8      BONAP\n",
       "9      BOTTM"
      ]
     },
     "execution_count": 103,
     "metadata": {},
     "output_type": "execute_result"
    }
   ],
   "source": [
    "c = get_mongo_connection()\n",
    "customers = c.customers.find().sort('CustomerID', pymongo.ASCENDING)\n",
    "top10 = [customer['CustomerID'] for customer in customers][:10]\n",
    "pd.DataFrame(top10, columns=['CustomerID'])"
   ]
  },
  {
   "cell_type": "markdown",
   "metadata": {},
   "source": [
    "The list above shows the top 10 customer ids, sorted in ascending order, from the customer collection."
   ]
  },
  {
   "cell_type": "markdown",
   "metadata": {},
   "source": [
    "### Exercise 2"
   ]
  },
  {
   "cell_type": "markdown",
   "metadata": {},
   "source": [
    "In this exercise we're going to retrieve all orders made by customer, with customerid `'ALFKI'` for both databases."
   ]
  },
  {
   "cell_type": "code",
   "execution_count": 104,
   "metadata": {
    "collapsed": false
   },
   "outputs": [
    {
     "data": {
      "text/plain": [
       "<sqlite3.Cursor at 0x106c60650>"
      ]
     },
     "execution_count": 104,
     "metadata": {},
     "output_type": "execute_result"
    }
   ],
   "source": [
    "cur.execute(\"SELECT * FROM customers AS c \"\n",
    "            \"INNER JOIN orders AS o ON c.customerid=o.customerid \"\n",
    "            \"WHERE o.customerid='ALFKI'\")"
   ]
  },
  {
   "cell_type": "markdown",
   "metadata": {},
   "source": [
    "Similarily to the last exercise, we can fetch the data from the SQLite DB and into a pandas DataFrame."
   ]
  },
  {
   "cell_type": "code",
   "execution_count": 105,
   "metadata": {
    "collapsed": false
   },
   "outputs": [
    {
     "data": {
      "text/html": [
       "<div>\n",
       "<table border=\"1\" class=\"dataframe\">\n",
       "  <thead>\n",
       "    <tr style=\"text-align: right;\">\n",
       "      <th></th>\n",
       "      <th>0</th>\n",
       "      <th>1</th>\n",
       "      <th>2</th>\n",
       "      <th>3</th>\n",
       "      <th>4</th>\n",
       "      <th>5</th>\n",
       "      <th>6</th>\n",
       "      <th>7</th>\n",
       "      <th>8</th>\n",
       "      <th>9</th>\n",
       "      <th>...</th>\n",
       "      <th>15</th>\n",
       "      <th>16</th>\n",
       "      <th>17</th>\n",
       "      <th>18</th>\n",
       "      <th>19</th>\n",
       "      <th>20</th>\n",
       "      <th>21</th>\n",
       "      <th>22</th>\n",
       "      <th>23</th>\n",
       "      <th>24</th>\n",
       "    </tr>\n",
       "  </thead>\n",
       "  <tbody>\n",
       "    <tr>\n",
       "      <th>0</th>\n",
       "      <td>ALFKI</td>\n",
       "      <td>Alfreds Futterkiste</td>\n",
       "      <td>Maria Anders</td>\n",
       "      <td>Sales Representative</td>\n",
       "      <td>Obere Str. 57</td>\n",
       "      <td>Berlin</td>\n",
       "      <td>None</td>\n",
       "      <td>12209</td>\n",
       "      <td>Germany</td>\n",
       "      <td>030-0074321</td>\n",
       "      <td>...</td>\n",
       "      <td>1997-09-22 00:00:00.000</td>\n",
       "      <td>1997-09-02 00:00:00.000</td>\n",
       "      <td>1</td>\n",
       "      <td>29.46</td>\n",
       "      <td>Alfreds Futterkiste</td>\n",
       "      <td>Obere Str. 57</td>\n",
       "      <td>Berlin</td>\n",
       "      <td>None</td>\n",
       "      <td>12209</td>\n",
       "      <td>Germany</td>\n",
       "    </tr>\n",
       "    <tr>\n",
       "      <th>1</th>\n",
       "      <td>ALFKI</td>\n",
       "      <td>Alfreds Futterkiste</td>\n",
       "      <td>Maria Anders</td>\n",
       "      <td>Sales Representative</td>\n",
       "      <td>Obere Str. 57</td>\n",
       "      <td>Berlin</td>\n",
       "      <td>None</td>\n",
       "      <td>12209</td>\n",
       "      <td>Germany</td>\n",
       "      <td>030-0074321</td>\n",
       "      <td>...</td>\n",
       "      <td>1997-10-31 00:00:00.000</td>\n",
       "      <td>1997-10-13 00:00:00.000</td>\n",
       "      <td>2</td>\n",
       "      <td>61.02</td>\n",
       "      <td>Alfred-s Futterkiste</td>\n",
       "      <td>Obere Str. 57</td>\n",
       "      <td>Berlin</td>\n",
       "      <td>None</td>\n",
       "      <td>12209</td>\n",
       "      <td>Germany</td>\n",
       "    </tr>\n",
       "    <tr>\n",
       "      <th>2</th>\n",
       "      <td>ALFKI</td>\n",
       "      <td>Alfreds Futterkiste</td>\n",
       "      <td>Maria Anders</td>\n",
       "      <td>Sales Representative</td>\n",
       "      <td>Obere Str. 57</td>\n",
       "      <td>Berlin</td>\n",
       "      <td>None</td>\n",
       "      <td>12209</td>\n",
       "      <td>Germany</td>\n",
       "      <td>030-0074321</td>\n",
       "      <td>...</td>\n",
       "      <td>1997-11-24 00:00:00.000</td>\n",
       "      <td>1997-10-21 00:00:00.000</td>\n",
       "      <td>1</td>\n",
       "      <td>23.94</td>\n",
       "      <td>Alfred-s Futterkiste</td>\n",
       "      <td>Obere Str. 57</td>\n",
       "      <td>Berlin</td>\n",
       "      <td>None</td>\n",
       "      <td>12209</td>\n",
       "      <td>Germany</td>\n",
       "    </tr>\n",
       "    <tr>\n",
       "      <th>3</th>\n",
       "      <td>ALFKI</td>\n",
       "      <td>Alfreds Futterkiste</td>\n",
       "      <td>Maria Anders</td>\n",
       "      <td>Sales Representative</td>\n",
       "      <td>Obere Str. 57</td>\n",
       "      <td>Berlin</td>\n",
       "      <td>None</td>\n",
       "      <td>12209</td>\n",
       "      <td>Germany</td>\n",
       "      <td>030-0074321</td>\n",
       "      <td>...</td>\n",
       "      <td>1998-02-12 00:00:00.000</td>\n",
       "      <td>1998-01-21 00:00:00.000</td>\n",
       "      <td>3</td>\n",
       "      <td>69.53</td>\n",
       "      <td>Alfred-s Futterkiste</td>\n",
       "      <td>Obere Str. 57</td>\n",
       "      <td>Berlin</td>\n",
       "      <td>None</td>\n",
       "      <td>12209</td>\n",
       "      <td>Germany</td>\n",
       "    </tr>\n",
       "    <tr>\n",
       "      <th>4</th>\n",
       "      <td>ALFKI</td>\n",
       "      <td>Alfreds Futterkiste</td>\n",
       "      <td>Maria Anders</td>\n",
       "      <td>Sales Representative</td>\n",
       "      <td>Obere Str. 57</td>\n",
       "      <td>Berlin</td>\n",
       "      <td>None</td>\n",
       "      <td>12209</td>\n",
       "      <td>Germany</td>\n",
       "      <td>030-0074321</td>\n",
       "      <td>...</td>\n",
       "      <td>1998-04-27 00:00:00.000</td>\n",
       "      <td>1998-03-24 00:00:00.000</td>\n",
       "      <td>1</td>\n",
       "      <td>40.42</td>\n",
       "      <td>Alfred-s Futterkiste</td>\n",
       "      <td>Obere Str. 57</td>\n",
       "      <td>Berlin</td>\n",
       "      <td>None</td>\n",
       "      <td>12209</td>\n",
       "      <td>Germany</td>\n",
       "    </tr>\n",
       "    <tr>\n",
       "      <th>5</th>\n",
       "      <td>ALFKI</td>\n",
       "      <td>Alfreds Futterkiste</td>\n",
       "      <td>Maria Anders</td>\n",
       "      <td>Sales Representative</td>\n",
       "      <td>Obere Str. 57</td>\n",
       "      <td>Berlin</td>\n",
       "      <td>None</td>\n",
       "      <td>12209</td>\n",
       "      <td>Germany</td>\n",
       "      <td>030-0074321</td>\n",
       "      <td>...</td>\n",
       "      <td>1998-05-07 00:00:00.000</td>\n",
       "      <td>1998-04-13 00:00:00.000</td>\n",
       "      <td>1</td>\n",
       "      <td>1.21</td>\n",
       "      <td>Alfred-s Futterkiste</td>\n",
       "      <td>Obere Str. 57</td>\n",
       "      <td>Berlin</td>\n",
       "      <td>None</td>\n",
       "      <td>12209</td>\n",
       "      <td>Germany</td>\n",
       "    </tr>\n",
       "  </tbody>\n",
       "</table>\n",
       "<p>6 rows × 25 columns</p>\n",
       "</div>"
      ],
      "text/plain": [
       "      0                    1             2                     3   \\\n",
       "0  ALFKI  Alfreds Futterkiste  Maria Anders  Sales Representative   \n",
       "1  ALFKI  Alfreds Futterkiste  Maria Anders  Sales Representative   \n",
       "2  ALFKI  Alfreds Futterkiste  Maria Anders  Sales Representative   \n",
       "3  ALFKI  Alfreds Futterkiste  Maria Anders  Sales Representative   \n",
       "4  ALFKI  Alfreds Futterkiste  Maria Anders  Sales Representative   \n",
       "5  ALFKI  Alfreds Futterkiste  Maria Anders  Sales Representative   \n",
       "\n",
       "              4       5     6      7        8            9    ...     \\\n",
       "0  Obere Str. 57  Berlin  None  12209  Germany  030-0074321   ...      \n",
       "1  Obere Str. 57  Berlin  None  12209  Germany  030-0074321   ...      \n",
       "2  Obere Str. 57  Berlin  None  12209  Germany  030-0074321   ...      \n",
       "3  Obere Str. 57  Berlin  None  12209  Germany  030-0074321   ...      \n",
       "4  Obere Str. 57  Berlin  None  12209  Germany  030-0074321   ...      \n",
       "5  Obere Str. 57  Berlin  None  12209  Germany  030-0074321   ...      \n",
       "\n",
       "                        15                       16 17     18  \\\n",
       "0  1997-09-22 00:00:00.000  1997-09-02 00:00:00.000  1  29.46   \n",
       "1  1997-10-31 00:00:00.000  1997-10-13 00:00:00.000  2  61.02   \n",
       "2  1997-11-24 00:00:00.000  1997-10-21 00:00:00.000  1  23.94   \n",
       "3  1998-02-12 00:00:00.000  1998-01-21 00:00:00.000  3  69.53   \n",
       "4  1998-04-27 00:00:00.000  1998-03-24 00:00:00.000  1  40.42   \n",
       "5  1998-05-07 00:00:00.000  1998-04-13 00:00:00.000  1   1.21   \n",
       "\n",
       "                     19             20      21    22     23       24  \n",
       "0   Alfreds Futterkiste  Obere Str. 57  Berlin  None  12209  Germany  \n",
       "1  Alfred-s Futterkiste  Obere Str. 57  Berlin  None  12209  Germany  \n",
       "2  Alfred-s Futterkiste  Obere Str. 57  Berlin  None  12209  Germany  \n",
       "3  Alfred-s Futterkiste  Obere Str. 57  Berlin  None  12209  Germany  \n",
       "4  Alfred-s Futterkiste  Obere Str. 57  Berlin  None  12209  Germany  \n",
       "5  Alfred-s Futterkiste  Obere Str. 57  Berlin  None  12209  Germany  \n",
       "\n",
       "[6 rows x 25 columns]"
      ]
     },
     "execution_count": 105,
     "metadata": {},
     "output_type": "execute_result"
    }
   ],
   "source": [
    "pd.DataFrame(cur.fetchall())"
   ]
  },
  {
   "cell_type": "markdown",
   "metadata": {},
   "source": [
    "Doing a inner join is straight-forward with SQL, since it is one of the core concepts of relational databases."
   ]
  },
  {
   "cell_type": "markdown",
   "metadata": {},
   "source": [
    "Getting the same data from Northwind MongoDB is slightly less clean, since we have to do this in a nested for-loop. In a real world scenario, we should not be forced to merge collection on such a trivial query."
   ]
  },
  {
   "cell_type": "code",
   "execution_count": 106,
   "metadata": {
    "collapsed": false
   },
   "outputs": [],
   "source": [
    "for customer in c.customers.find({'CustomerID':'ALFKI'}):\n",
    "    # Join on the customerid\n",
    "    for order in c.orders.find({'CustomerID': customer['CustomerID']}):\n",
    "        # Join on the orderid\n",
    "        for details in c['order-details'].find({'OrderID': order['OrderID']}):\n",
    "            joined_result = order.copy()\n",
    "            joined_result.update(details)\n",
    "r = cur.fetchall()"
   ]
  },
  {
   "cell_type": "markdown",
   "metadata": {},
   "source": [
    "Finally, we can print the dictionary values from `joined_result` into a DataFrame and display the result."
   ]
  },
  {
   "cell_type": "code",
   "execution_count": 107,
   "metadata": {
    "collapsed": false
   },
   "outputs": [
    {
     "data": {
      "text/html": [
       "<div>\n",
       "<table border=\"1\" class=\"dataframe\">\n",
       "  <thead>\n",
       "    <tr style=\"text-align: right;\">\n",
       "      <th></th>\n",
       "      <th>OrderID</th>\n",
       "      <th>ShipVia</th>\n",
       "      <th>ShippedDate</th>\n",
       "      <th>ShipName</th>\n",
       "      <th>EmployeeID</th>\n",
       "      <th>ShipPostalCode</th>\n",
       "      <th>ShipCity</th>\n",
       "      <th>ShipRegion</th>\n",
       "      <th>OrderDate</th>\n",
       "      <th>CustomerID</th>\n",
       "      <th>Discount</th>\n",
       "      <th>Quantity</th>\n",
       "      <th>Freight</th>\n",
       "      <th>RequiredDate</th>\n",
       "      <th>_id</th>\n",
       "      <th>UnitPrice</th>\n",
       "      <th>ShipAddress</th>\n",
       "      <th>ProductID</th>\n",
       "      <th>ShipCountry</th>\n",
       "    </tr>\n",
       "  </thead>\n",
       "  <tbody>\n",
       "    <tr>\n",
       "      <th>0</th>\n",
       "      <td>11011</td>\n",
       "      <td>1</td>\n",
       "      <td>1998-04-13 00:00:00.000</td>\n",
       "      <td>Alfred's Futterkiste</td>\n",
       "      <td>3</td>\n",
       "      <td>12209</td>\n",
       "      <td>Berlin</td>\n",
       "      <td>NULL</td>\n",
       "      <td>1998-04-09 00:00:00.000</td>\n",
       "      <td>ALFKI</td>\n",
       "      <td>0</td>\n",
       "      <td>20</td>\n",
       "      <td>1.21</td>\n",
       "      <td>1998-05-07 00:00:00.000</td>\n",
       "      <td>5609b12899ded9537b06c3f0</td>\n",
       "      <td>21.5</td>\n",
       "      <td>Obere Str. 57</td>\n",
       "      <td>71</td>\n",
       "      <td>Germany</td>\n",
       "    </tr>\n",
       "  </tbody>\n",
       "</table>\n",
       "</div>"
      ],
      "text/plain": [
       "   OrderID  ShipVia              ShippedDate              ShipName  \\\n",
       "0    11011        1  1998-04-13 00:00:00.000  Alfred's Futterkiste   \n",
       "\n",
       "   EmployeeID  ShipPostalCode ShipCity ShipRegion                OrderDate  \\\n",
       "0           3           12209   Berlin       NULL  1998-04-09 00:00:00.000   \n",
       "\n",
       "  CustomerID  Discount  Quantity  Freight             RequiredDate  \\\n",
       "0      ALFKI         0        20     1.21  1998-05-07 00:00:00.000   \n",
       "\n",
       "                        _id  UnitPrice    ShipAddress  ProductID ShipCountry  \n",
       "0  5609b12899ded9537b06c3f0       21.5  Obere Str. 57         71     Germany  "
      ]
     },
     "execution_count": 107,
     "metadata": {},
     "output_type": "execute_result"
    }
   ],
   "source": [
    "# Pretty print using pandas\n",
    "pd.DataFrame([joined_result.values()], columns=joined_result.keys())"
   ]
  },
  {
   "cell_type": "markdown",
   "metadata": {},
   "source": [
    "### Exercise 3\n",
    "In this exercise we're going to retrieve *all orders (with products) made by ALFKI that contain at least 2 product types.*.\n",
    "To do this, we need to make an inner join between the tables `CUSTOMERS` and `ORDERS` on the foreign key `customerid`:"
   ]
  },
  {
   "cell_type": "markdown",
   "metadata": {},
   "source": [
    "The `SELECT` statement below gets _all_ (\\*) fields from the joined result of `CUSTOMERS`, `ORDERS`, `ORDER DETAILS` and `PRODUCTS`. The joins is a `INNER JOIN`, meaning it is only going to match the intersection of the tables where their shared key is equal.\n",
    "A `WHERE` clause is provided, instructing the SQL engine to only return tuples where `customerid` is equal to `'ALFKI'`. Finally, the `Order Details` tuples that haves more than 2 unique `productid` values is chosen and grouped by `orderid`, which aggregates the results."
   ]
  },
  {
   "cell_type": "code",
   "execution_count": 108,
   "metadata": {
    "collapsed": false
   },
   "outputs": [
    {
     "data": {
      "text/plain": [
       "<sqlite3.Cursor at 0x106c60650>"
      ]
     },
     "execution_count": 108,
     "metadata": {},
     "output_type": "execute_result"
    }
   ],
   "source": [
    "cur.execute('SELECT * FROM customers AS c'\n",
    "                    ' INNER JOIN orders AS o ON c.customerid=o.customerid '\n",
    "                    ' INNER JOIN \"Order Details\" AS od ON od.orderid=o.orderid '\n",
    "                    ' INNER JOIN products AS p ON p.productid=od.productid '\n",
    "                    \" WHERE c.customerid='ALFKI'\"\n",
    "                    ' GROUP BY o.orderid HAVING count(distinct od.productid) >= 2')"
   ]
  },
  {
   "cell_type": "markdown",
   "metadata": {},
   "source": [
    "Yet again, we can fetch the result from the SQLite DB and into a pandas DataFrame."
   ]
  },
  {
   "cell_type": "code",
   "execution_count": 109,
   "metadata": {
    "collapsed": false
   },
   "outputs": [
    {
     "data": {
      "text/html": [
       "<div>\n",
       "<table border=\"1\" class=\"dataframe\">\n",
       "  <thead>\n",
       "    <tr style=\"text-align: right;\">\n",
       "      <th></th>\n",
       "      <th>0</th>\n",
       "      <th>1</th>\n",
       "      <th>2</th>\n",
       "      <th>3</th>\n",
       "      <th>4</th>\n",
       "      <th>5</th>\n",
       "      <th>6</th>\n",
       "      <th>7</th>\n",
       "      <th>8</th>\n",
       "      <th>9</th>\n",
       "      <th>...</th>\n",
       "      <th>30</th>\n",
       "      <th>31</th>\n",
       "      <th>32</th>\n",
       "      <th>33</th>\n",
       "      <th>34</th>\n",
       "      <th>35</th>\n",
       "      <th>36</th>\n",
       "      <th>37</th>\n",
       "      <th>38</th>\n",
       "      <th>39</th>\n",
       "    </tr>\n",
       "  </thead>\n",
       "  <tbody>\n",
       "    <tr>\n",
       "      <th>0</th>\n",
       "      <td>ALFKI</td>\n",
       "      <td>Alfreds Futterkiste</td>\n",
       "      <td>Maria Anders</td>\n",
       "      <td>Sales Representative</td>\n",
       "      <td>Obere Str. 57</td>\n",
       "      <td>Berlin</td>\n",
       "      <td>None</td>\n",
       "      <td>12209</td>\n",
       "      <td>Germany</td>\n",
       "      <td>030-0074321</td>\n",
       "      <td>...</td>\n",
       "      <td>46</td>\n",
       "      <td>Spegesild</td>\n",
       "      <td>21</td>\n",
       "      <td>8</td>\n",
       "      <td>4 - 450 g glasses</td>\n",
       "      <td>12.0</td>\n",
       "      <td>95</td>\n",
       "      <td>0</td>\n",
       "      <td>0</td>\n",
       "      <td>0</td>\n",
       "    </tr>\n",
       "    <tr>\n",
       "      <th>1</th>\n",
       "      <td>ALFKI</td>\n",
       "      <td>Alfreds Futterkiste</td>\n",
       "      <td>Maria Anders</td>\n",
       "      <td>Sales Representative</td>\n",
       "      <td>Obere Str. 57</td>\n",
       "      <td>Berlin</td>\n",
       "      <td>None</td>\n",
       "      <td>12209</td>\n",
       "      <td>Germany</td>\n",
       "      <td>030-0074321</td>\n",
       "      <td>...</td>\n",
       "      <td>76</td>\n",
       "      <td>Lakkalik��ri</td>\n",
       "      <td>23</td>\n",
       "      <td>1</td>\n",
       "      <td>500 ml</td>\n",
       "      <td>18.0</td>\n",
       "      <td>57</td>\n",
       "      <td>0</td>\n",
       "      <td>20</td>\n",
       "      <td>0</td>\n",
       "    </tr>\n",
       "    <tr>\n",
       "      <th>2</th>\n",
       "      <td>ALFKI</td>\n",
       "      <td>Alfreds Futterkiste</td>\n",
       "      <td>Maria Anders</td>\n",
       "      <td>Sales Representative</td>\n",
       "      <td>Obere Str. 57</td>\n",
       "      <td>Berlin</td>\n",
       "      <td>None</td>\n",
       "      <td>12209</td>\n",
       "      <td>Germany</td>\n",
       "      <td>030-0074321</td>\n",
       "      <td>...</td>\n",
       "      <td>77</td>\n",
       "      <td>Original Frankfurter gr�ne So�e</td>\n",
       "      <td>12</td>\n",
       "      <td>2</td>\n",
       "      <td>12 boxes</td>\n",
       "      <td>13.0</td>\n",
       "      <td>32</td>\n",
       "      <td>0</td>\n",
       "      <td>15</td>\n",
       "      <td>0</td>\n",
       "    </tr>\n",
       "    <tr>\n",
       "      <th>3</th>\n",
       "      <td>ALFKI</td>\n",
       "      <td>Alfreds Futterkiste</td>\n",
       "      <td>Maria Anders</td>\n",
       "      <td>Sales Representative</td>\n",
       "      <td>Obere Str. 57</td>\n",
       "      <td>Berlin</td>\n",
       "      <td>None</td>\n",
       "      <td>12209</td>\n",
       "      <td>Germany</td>\n",
       "      <td>030-0074321</td>\n",
       "      <td>...</td>\n",
       "      <td>28</td>\n",
       "      <td>R�ssle Sauerkraut</td>\n",
       "      <td>12</td>\n",
       "      <td>7</td>\n",
       "      <td>25 - 825 g cans</td>\n",
       "      <td>45.6</td>\n",
       "      <td>26</td>\n",
       "      <td>0</td>\n",
       "      <td>0</td>\n",
       "      <td>1</td>\n",
       "    </tr>\n",
       "    <tr>\n",
       "      <th>4</th>\n",
       "      <td>ALFKI</td>\n",
       "      <td>Alfreds Futterkiste</td>\n",
       "      <td>Maria Anders</td>\n",
       "      <td>Sales Representative</td>\n",
       "      <td>Obere Str. 57</td>\n",
       "      <td>Berlin</td>\n",
       "      <td>None</td>\n",
       "      <td>12209</td>\n",
       "      <td>Germany</td>\n",
       "      <td>030-0074321</td>\n",
       "      <td>...</td>\n",
       "      <td>71</td>\n",
       "      <td>Flotemysost</td>\n",
       "      <td>15</td>\n",
       "      <td>4</td>\n",
       "      <td>10 - 500 g pkgs.</td>\n",
       "      <td>21.5</td>\n",
       "      <td>26</td>\n",
       "      <td>0</td>\n",
       "      <td>0</td>\n",
       "      <td>0</td>\n",
       "    </tr>\n",
       "  </tbody>\n",
       "</table>\n",
       "<p>5 rows × 40 columns</p>\n",
       "</div>"
      ],
      "text/plain": [
       "      0                    1             2                     3   \\\n",
       "0  ALFKI  Alfreds Futterkiste  Maria Anders  Sales Representative   \n",
       "1  ALFKI  Alfreds Futterkiste  Maria Anders  Sales Representative   \n",
       "2  ALFKI  Alfreds Futterkiste  Maria Anders  Sales Representative   \n",
       "3  ALFKI  Alfreds Futterkiste  Maria Anders  Sales Representative   \n",
       "4  ALFKI  Alfreds Futterkiste  Maria Anders  Sales Representative   \n",
       "\n",
       "              4       5     6      7        8            9  ...  30  \\\n",
       "0  Obere Str. 57  Berlin  None  12209  Germany  030-0074321 ...  46   \n",
       "1  Obere Str. 57  Berlin  None  12209  Germany  030-0074321 ...  76   \n",
       "2  Obere Str. 57  Berlin  None  12209  Germany  030-0074321 ...  77   \n",
       "3  Obere Str. 57  Berlin  None  12209  Germany  030-0074321 ...  28   \n",
       "4  Obere Str. 57  Berlin  None  12209  Germany  030-0074321 ...  71   \n",
       "\n",
       "                                31  32  33                 34    35  36  37  \\\n",
       "0                        Spegesild  21   8  4 - 450 g glasses  12.0  95   0   \n",
       "1                     Lakkalik��ri  23   1             500 ml  18.0  57   0   \n",
       "2  Original Frankfurter gr�ne So�e  12   2           12 boxes  13.0  32   0   \n",
       "3                R�ssle Sauerkraut  12   7    25 - 825 g cans  45.6  26   0   \n",
       "4                      Flotemysost  15   4   10 - 500 g pkgs.  21.5  26   0   \n",
       "\n",
       "   38 39  \n",
       "0   0  0  \n",
       "1  20  0  \n",
       "2  15  0  \n",
       "3   0  1  \n",
       "4   0  0  \n",
       "\n",
       "[5 rows x 40 columns]"
      ]
     },
     "execution_count": 109,
     "metadata": {},
     "output_type": "execute_result"
    }
   ],
   "source": [
    "r = cur.fetchall()\n",
    "pd.DataFrame(r)"
   ]
  },
  {
   "cell_type": "markdown",
   "metadata": {},
   "source": [
    "Performing the same query on the MongoDB is slightly more complex. Just as we did before, we need to make a nested iterator that joins the collections on their shared key. This time, however, we also need to write a Reduce function in JavaScript that counts the occurunces of each unique `orderid` in the `Order Details` collection."
   ]
  },
  {
   "cell_type": "code",
   "execution_count": 24,
   "metadata": {
    "collapsed": true
   },
   "outputs": [],
   "source": [
    "from bson.code import Code\n",
    "reducer = Code(\n",
    "        \"\"\"\n",
    "            function(obj, prev){\n",
    "              prev.count++;\n",
    "            }\n",
    "        \"\"\")"
   ]
  },
  {
   "cell_type": "markdown",
   "metadata": {},
   "source": [
    "The reducer above takes the current object and a variable `prev` that is kept in memory from the last fold. After each reduce job has run, the result thus the same as a `count(DISTINCT od.productid)` in SQL. However, if wanted, this reducer can be easily parallelized across multiple nodes in a hadoop cluster."
   ]
  },
  {
   "cell_type": "markdown",
   "metadata": {},
   "source": [
    "We can take the nested for-loop from the previous MongoDB query and modify it to our needs. This time we need to apply the reducer in a group by aggregation and filter out any objects that has count =< 2."
   ]
  },
  {
   "cell_type": "code",
   "execution_count": 26,
   "metadata": {
    "collapsed": false
   },
   "outputs": [],
   "source": [
    "c = get_mongo_connection()\n",
    "orders = []\n",
    "\n",
    "for customer in c.customers.find({'CustomerID':'ALFKI'}):\n",
    "    # Join customer and orders on customerid\n",
    "    for order in c.orders.find({'CustomerID': customer['CustomerID']}):\n",
    "        # Apply the reducer in a group aggregation\n",
    "        results = c['order-details'].group(key={\"OrderID\": 1}, condition={}, initial={\"count\": 0}, reduce=reducer)\n",
    "        for details in results:\n",
    "            if details['OrderID'] == order['OrderID'] and details['count'] >= 2:\n",
    "                orders.append(order)\n",
    "                joined_result = order.copy()\n",
    "                joined_result.update(details)"
   ]
  },
  {
   "cell_type": "markdown",
   "metadata": {},
   "source": [
    "Finally, we can pretty print the result using a Pandas DataFrame"
   ]
  },
  {
   "cell_type": "code",
   "execution_count": 27,
   "metadata": {
    "collapsed": false
   },
   "outputs": [
    {
     "data": {
      "text/html": [
       "<div>\n",
       "<table border=\"1\" class=\"dataframe\">\n",
       "  <thead>\n",
       "    <tr style=\"text-align: right;\">\n",
       "      <th></th>\n",
       "      <th>CustomerID</th>\n",
       "      <th>EmployeeID</th>\n",
       "      <th>Freight</th>\n",
       "      <th>OrderDate</th>\n",
       "      <th>OrderID</th>\n",
       "      <th>RequiredDate</th>\n",
       "      <th>ShipAddress</th>\n",
       "      <th>ShipCity</th>\n",
       "      <th>ShipCountry</th>\n",
       "      <th>ShipName</th>\n",
       "      <th>ShipPostalCode</th>\n",
       "      <th>ShipRegion</th>\n",
       "      <th>ShipVia</th>\n",
       "      <th>ShippedDate</th>\n",
       "      <th>_id</th>\n",
       "    </tr>\n",
       "  </thead>\n",
       "  <tbody>\n",
       "    <tr>\n",
       "      <th>0</th>\n",
       "      <td>ALFKI</td>\n",
       "      <td>6</td>\n",
       "      <td>29.46</td>\n",
       "      <td>1997-08-25 00:00:00.000</td>\n",
       "      <td>10643</td>\n",
       "      <td>1997-09-22 00:00:00.000</td>\n",
       "      <td>Obere Str. 57</td>\n",
       "      <td>Berlin</td>\n",
       "      <td>Germany</td>\n",
       "      <td>Alfreds Futterkiste</td>\n",
       "      <td>12209</td>\n",
       "      <td>NULL</td>\n",
       "      <td>1</td>\n",
       "      <td>1997-09-02 00:00:00.000</td>\n",
       "      <td>5609b12899ded9537b06c632</td>\n",
       "    </tr>\n",
       "    <tr>\n",
       "      <th>1</th>\n",
       "      <td>ALFKI</td>\n",
       "      <td>4</td>\n",
       "      <td>23.94</td>\n",
       "      <td>1997-10-13 00:00:00.000</td>\n",
       "      <td>10702</td>\n",
       "      <td>1997-11-24 00:00:00.000</td>\n",
       "      <td>Obere Str. 57</td>\n",
       "      <td>Berlin</td>\n",
       "      <td>Germany</td>\n",
       "      <td>Alfred's Futterkiste</td>\n",
       "      <td>12209</td>\n",
       "      <td>NULL</td>\n",
       "      <td>1</td>\n",
       "      <td>1997-10-21 00:00:00.000</td>\n",
       "      <td>5609b12899ded9537b06c66d</td>\n",
       "    </tr>\n",
       "    <tr>\n",
       "      <th>2</th>\n",
       "      <td>ALFKI</td>\n",
       "      <td>1</td>\n",
       "      <td>69.53</td>\n",
       "      <td>1998-01-15 00:00:00.000</td>\n",
       "      <td>10835</td>\n",
       "      <td>1998-02-12 00:00:00.000</td>\n",
       "      <td>Obere Str. 57</td>\n",
       "      <td>Berlin</td>\n",
       "      <td>Germany</td>\n",
       "      <td>Alfred's Futterkiste</td>\n",
       "      <td>12209</td>\n",
       "      <td>NULL</td>\n",
       "      <td>3</td>\n",
       "      <td>1998-01-21 00:00:00.000</td>\n",
       "      <td>5609b12899ded9537b06c6f2</td>\n",
       "    </tr>\n",
       "    <tr>\n",
       "      <th>3</th>\n",
       "      <td>ALFKI</td>\n",
       "      <td>1</td>\n",
       "      <td>40.42</td>\n",
       "      <td>1998-03-16 00:00:00.000</td>\n",
       "      <td>10952</td>\n",
       "      <td>1998-04-27 00:00:00.000</td>\n",
       "      <td>Obere Str. 57</td>\n",
       "      <td>Berlin</td>\n",
       "      <td>Germany</td>\n",
       "      <td>Alfred's Futterkiste</td>\n",
       "      <td>12209</td>\n",
       "      <td>NULL</td>\n",
       "      <td>1</td>\n",
       "      <td>1998-03-24 00:00:00.000</td>\n",
       "      <td>5609b12899ded9537b06c767</td>\n",
       "    </tr>\n",
       "    <tr>\n",
       "      <th>4</th>\n",
       "      <td>ALFKI</td>\n",
       "      <td>3</td>\n",
       "      <td>1.21</td>\n",
       "      <td>1998-04-09 00:00:00.000</td>\n",
       "      <td>11011</td>\n",
       "      <td>1998-05-07 00:00:00.000</td>\n",
       "      <td>Obere Str. 57</td>\n",
       "      <td>Berlin</td>\n",
       "      <td>Germany</td>\n",
       "      <td>Alfred's Futterkiste</td>\n",
       "      <td>12209</td>\n",
       "      <td>NULL</td>\n",
       "      <td>1</td>\n",
       "      <td>1998-04-13 00:00:00.000</td>\n",
       "      <td>5609b12899ded9537b06c7a2</td>\n",
       "    </tr>\n",
       "  </tbody>\n",
       "</table>\n",
       "</div>"
      ],
      "text/plain": [
       "  CustomerID  EmployeeID  Freight                OrderDate  OrderID  \\\n",
       "0      ALFKI           6    29.46  1997-08-25 00:00:00.000    10643   \n",
       "1      ALFKI           4    23.94  1997-10-13 00:00:00.000    10702   \n",
       "2      ALFKI           1    69.53  1998-01-15 00:00:00.000    10835   \n",
       "3      ALFKI           1    40.42  1998-03-16 00:00:00.000    10952   \n",
       "4      ALFKI           3     1.21  1998-04-09 00:00:00.000    11011   \n",
       "\n",
       "              RequiredDate    ShipAddress ShipCity ShipCountry  \\\n",
       "0  1997-09-22 00:00:00.000  Obere Str. 57   Berlin     Germany   \n",
       "1  1997-11-24 00:00:00.000  Obere Str. 57   Berlin     Germany   \n",
       "2  1998-02-12 00:00:00.000  Obere Str. 57   Berlin     Germany   \n",
       "3  1998-04-27 00:00:00.000  Obere Str. 57   Berlin     Germany   \n",
       "4  1998-05-07 00:00:00.000  Obere Str. 57   Berlin     Germany   \n",
       "\n",
       "               ShipName  ShipPostalCode ShipRegion  ShipVia  \\\n",
       "0   Alfreds Futterkiste           12209       NULL        1   \n",
       "1  Alfred's Futterkiste           12209       NULL        1   \n",
       "2  Alfred's Futterkiste           12209       NULL        3   \n",
       "3  Alfred's Futterkiste           12209       NULL        1   \n",
       "4  Alfred's Futterkiste           12209       NULL        1   \n",
       "\n",
       "               ShippedDate                       _id  \n",
       "0  1997-09-02 00:00:00.000  5609b12899ded9537b06c632  \n",
       "1  1997-10-21 00:00:00.000  5609b12899ded9537b06c66d  \n",
       "2  1998-01-21 00:00:00.000  5609b12899ded9537b06c6f2  \n",
       "3  1998-03-24 00:00:00.000  5609b12899ded9537b06c767  \n",
       "4  1998-04-13 00:00:00.000  5609b12899ded9537b06c7a2  "
      ]
     },
     "execution_count": 27,
     "metadata": {},
     "output_type": "execute_result"
    }
   ],
   "source": [
    "pd.DataFrame(orders)"
   ]
  },
  {
   "cell_type": "markdown",
   "metadata": {},
   "source": [
    "If we cross-check this result set with the previous result set, produced by SQLite, we can see that the tuples and objects refer to the same data points (except for the order)"
   ]
  },
  {
   "cell_type": "markdown",
   "metadata": {},
   "source": [
    "#### Exercise 4"
   ]
  },
  {
   "cell_type": "markdown",
   "metadata": {},
   "source": [
    "In this exercise we're going to investigate who have ordered 'Uncle Bob’s Organic Dried Pears' (ProductID 7) and how many they've ordered."
   ]
  },
  {
   "cell_type": "markdown",
   "metadata": {},
   "source": [
    "The following `SELECT` statement retrieves the tuple fields `customerid` and `product_count` (alias for `count()` function). In order to count the product for each customerid we, once again, need to make a `INNER JOIN` between the tables on their shared keys. Finally, we can group by customerid to aggregate the result and then order the result by `product_count`."
   ]
  },
  {
   "cell_type": "code",
   "execution_count": 40,
   "metadata": {
    "collapsed": false
   },
   "outputs": [
    {
     "data": {
      "text/plain": [
       "<sqlite3.Cursor at 0x10785b5e0>"
      ]
     },
     "execution_count": 40,
     "metadata": {},
     "output_type": "execute_result"
    }
   ],
   "source": [
    "cur.execute('SELECT c.customerid, count(od.productid) as product_count FROM customers AS c'\n",
    "                    ' INNER JOIN orders AS o ON c.customerid=o.customerid '\n",
    "                    ' INNER JOIN \"Order Details\" AS od ON od.orderid=o.orderid '\n",
    "                    ' INNER JOIN products AS p ON p.productid=od.productid '\n",
    "                    ' WHERE p.productid=7 '\n",
    "                    ' GROUP BY o.customerid '\n",
    "                    ' ORDER BY product_count DESC')"
   ]
  },
  {
   "cell_type": "markdown",
   "metadata": {},
   "source": [
    "The result is retrieved by calling `fetchall()` and load it into a DataFrame"
   ]
  },
  {
   "cell_type": "code",
   "execution_count": 41,
   "metadata": {
    "collapsed": false
   },
   "outputs": [
    {
     "data": {
      "text/html": [
       "<div>\n",
       "<table border=\"1\" class=\"dataframe\">\n",
       "  <thead>\n",
       "    <tr style=\"text-align: right;\">\n",
       "      <th></th>\n",
       "      <th>CustomerID</th>\n",
       "      <th>Product count</th>\n",
       "    </tr>\n",
       "  </thead>\n",
       "  <tbody>\n",
       "    <tr>\n",
       "      <th>0</th>\n",
       "      <td>RATTC</td>\n",
       "      <td>3</td>\n",
       "    </tr>\n",
       "    <tr>\n",
       "      <th>1</th>\n",
       "      <td>BONAP</td>\n",
       "      <td>2</td>\n",
       "    </tr>\n",
       "    <tr>\n",
       "      <th>2</th>\n",
       "      <td>BSBEV</td>\n",
       "      <td>2</td>\n",
       "    </tr>\n",
       "    <tr>\n",
       "      <th>3</th>\n",
       "      <td>EASTC</td>\n",
       "      <td>2</td>\n",
       "    </tr>\n",
       "    <tr>\n",
       "      <th>4</th>\n",
       "      <td>OTTIK</td>\n",
       "      <td>2</td>\n",
       "    </tr>\n",
       "    <tr>\n",
       "      <th>5</th>\n",
       "      <td>QUICK</td>\n",
       "      <td>2</td>\n",
       "    </tr>\n",
       "    <tr>\n",
       "      <th>6</th>\n",
       "      <td>REGGC</td>\n",
       "      <td>2</td>\n",
       "    </tr>\n",
       "    <tr>\n",
       "      <th>7</th>\n",
       "      <td>VICTE</td>\n",
       "      <td>2</td>\n",
       "    </tr>\n",
       "    <tr>\n",
       "      <th>8</th>\n",
       "      <td>BOTTM</td>\n",
       "      <td>1</td>\n",
       "    </tr>\n",
       "    <tr>\n",
       "      <th>9</th>\n",
       "      <td>ERNSH</td>\n",
       "      <td>1</td>\n",
       "    </tr>\n",
       "    <tr>\n",
       "      <th>10</th>\n",
       "      <td>FOLIG</td>\n",
       "      <td>1</td>\n",
       "    </tr>\n",
       "    <tr>\n",
       "      <th>11</th>\n",
       "      <td>FOLKO</td>\n",
       "      <td>1</td>\n",
       "    </tr>\n",
       "    <tr>\n",
       "      <th>12</th>\n",
       "      <td>GOURL</td>\n",
       "      <td>1</td>\n",
       "    </tr>\n",
       "    <tr>\n",
       "      <th>13</th>\n",
       "      <td>LACOR</td>\n",
       "      <td>1</td>\n",
       "    </tr>\n",
       "    <tr>\n",
       "      <th>14</th>\n",
       "      <td>LILAS</td>\n",
       "      <td>1</td>\n",
       "    </tr>\n",
       "    <tr>\n",
       "      <th>15</th>\n",
       "      <td>OCEAN</td>\n",
       "      <td>1</td>\n",
       "    </tr>\n",
       "    <tr>\n",
       "      <th>16</th>\n",
       "      <td>SANTG</td>\n",
       "      <td>1</td>\n",
       "    </tr>\n",
       "    <tr>\n",
       "      <th>17</th>\n",
       "      <td>SAVEA</td>\n",
       "      <td>1</td>\n",
       "    </tr>\n",
       "    <tr>\n",
       "      <th>18</th>\n",
       "      <td>SPLIR</td>\n",
       "      <td>1</td>\n",
       "    </tr>\n",
       "    <tr>\n",
       "      <th>19</th>\n",
       "      <td>VAFFE</td>\n",
       "      <td>1</td>\n",
       "    </tr>\n",
       "  </tbody>\n",
       "</table>\n",
       "</div>"
      ],
      "text/plain": [
       "   CustomerID  Product count\n",
       "0       RATTC              3\n",
       "1       BONAP              2\n",
       "2       BSBEV              2\n",
       "3       EASTC              2\n",
       "4       OTTIK              2\n",
       "5       QUICK              2\n",
       "6       REGGC              2\n",
       "7       VICTE              2\n",
       "8       BOTTM              1\n",
       "9       ERNSH              1\n",
       "10      FOLIG              1\n",
       "11      FOLKO              1\n",
       "12      GOURL              1\n",
       "13      LACOR              1\n",
       "14      LILAS              1\n",
       "15      OCEAN              1\n",
       "16      SANTG              1\n",
       "17      SAVEA              1\n",
       "18      SPLIR              1\n",
       "19      VAFFE              1"
      ]
     },
     "execution_count": 41,
     "metadata": {},
     "output_type": "execute_result"
    }
   ],
   "source": [
    "pd.DataFrame(cur.fetchall(), columns=['CustomerID','Product count'])"
   ]
  },
  {
   "cell_type": "markdown",
   "metadata": {},
   "source": [
    "The result shows that the customer, with customerid `RATTC` has made the highest purchase count on 3 times _Uncle Bob’s Organic Dried Pears_."
   ]
  },
  {
   "cell_type": "markdown",
   "metadata": {},
   "source": [
    "To do the same thing in MongoDB, we once again need to make a nested for-loop. This time we're not going to make a reducer, but just going to count the occorunces using a `defaultdict`. The reason is that the `pymongo` module does not come with a feature of grouping across more than two collections. In a real-world case, this would usually not be the case since the data is not joined across many collections."
   ]
  },
  {
   "cell_type": "code",
   "execution_count": 64,
   "metadata": {
    "collapsed": false
   },
   "outputs": [],
   "source": [
    "from collections import defaultdict\n",
    "product_count = defaultdict(lambda: 0)\n",
    "\n",
    "for customer in c.customers.find():\n",
    "    # For each customer, find the orders\n",
    "    for order in c.orders.find({'CustomerID':customer['CustomerID']}):\n",
    "        # For each order, find the order details\n",
    "        for details in c['order-details'].find({'OrderID':order['OrderID'], 'ProductID': 7}):\n",
    "                # Count each occorunce by the key CustomerID\n",
    "                product_count[customer['CustomerID']] += 1"
   ]
  },
  {
   "cell_type": "code",
   "execution_count": 65,
   "metadata": {
    "collapsed": false,
    "scrolled": false
   },
   "outputs": [
    {
     "data": {
      "text/html": [
       "<div>\n",
       "<table border=\"1\" class=\"dataframe\">\n",
       "  <thead>\n",
       "    <tr style=\"text-align: right;\">\n",
       "      <th></th>\n",
       "      <th>CustomerID</th>\n",
       "      <th>Product count</th>\n",
       "    </tr>\n",
       "  </thead>\n",
       "  <tbody>\n",
       "    <tr>\n",
       "      <th>10</th>\n",
       "      <td>RATTC</td>\n",
       "      <td>3</td>\n",
       "    </tr>\n",
       "    <tr>\n",
       "      <th>4</th>\n",
       "      <td>BSBEV</td>\n",
       "      <td>2</td>\n",
       "    </tr>\n",
       "    <tr>\n",
       "      <th>16</th>\n",
       "      <td>EASTC</td>\n",
       "      <td>2</td>\n",
       "    </tr>\n",
       "    <tr>\n",
       "      <th>6</th>\n",
       "      <td>BONAP</td>\n",
       "      <td>2</td>\n",
       "    </tr>\n",
       "    <tr>\n",
       "      <th>15</th>\n",
       "      <td>VICTE</td>\n",
       "      <td>2</td>\n",
       "    </tr>\n",
       "    <tr>\n",
       "      <th>8</th>\n",
       "      <td>REGGC</td>\n",
       "      <td>2</td>\n",
       "    </tr>\n",
       "    <tr>\n",
       "      <th>9</th>\n",
       "      <td>OTTIK</td>\n",
       "      <td>2</td>\n",
       "    </tr>\n",
       "    <tr>\n",
       "      <th>13</th>\n",
       "      <td>QUICK</td>\n",
       "      <td>2</td>\n",
       "    </tr>\n",
       "    <tr>\n",
       "      <th>12</th>\n",
       "      <td>LILAS</td>\n",
       "      <td>1</td>\n",
       "    </tr>\n",
       "    <tr>\n",
       "      <th>18</th>\n",
       "      <td>OCEAN</td>\n",
       "      <td>1</td>\n",
       "    </tr>\n",
       "    <tr>\n",
       "      <th>17</th>\n",
       "      <td>SPLIR</td>\n",
       "      <td>1</td>\n",
       "    </tr>\n",
       "    <tr>\n",
       "      <th>14</th>\n",
       "      <td>SAVEA</td>\n",
       "      <td>1</td>\n",
       "    </tr>\n",
       "    <tr>\n",
       "      <th>0</th>\n",
       "      <td>GOURL</td>\n",
       "      <td>1</td>\n",
       "    </tr>\n",
       "    <tr>\n",
       "      <th>11</th>\n",
       "      <td>LACOR</td>\n",
       "      <td>1</td>\n",
       "    </tr>\n",
       "    <tr>\n",
       "      <th>1</th>\n",
       "      <td>VAFFE</td>\n",
       "      <td>1</td>\n",
       "    </tr>\n",
       "    <tr>\n",
       "      <th>7</th>\n",
       "      <td>SANTG</td>\n",
       "      <td>1</td>\n",
       "    </tr>\n",
       "    <tr>\n",
       "      <th>5</th>\n",
       "      <td>FOLIG</td>\n",
       "      <td>1</td>\n",
       "    </tr>\n",
       "    <tr>\n",
       "      <th>3</th>\n",
       "      <td>FOLKO</td>\n",
       "      <td>1</td>\n",
       "    </tr>\n",
       "    <tr>\n",
       "      <th>2</th>\n",
       "      <td>BOTTM</td>\n",
       "      <td>1</td>\n",
       "    </tr>\n",
       "    <tr>\n",
       "      <th>19</th>\n",
       "      <td>ERNSH</td>\n",
       "      <td>1</td>\n",
       "    </tr>\n",
       "  </tbody>\n",
       "</table>\n",
       "</div>"
      ],
      "text/plain": [
       "   CustomerID  Product count\n",
       "10      RATTC              3\n",
       "4       BSBEV              2\n",
       "16      EASTC              2\n",
       "6       BONAP              2\n",
       "15      VICTE              2\n",
       "8       REGGC              2\n",
       "9       OTTIK              2\n",
       "13      QUICK              2\n",
       "12      LILAS              1\n",
       "18      OCEAN              1\n",
       "17      SPLIR              1\n",
       "14      SAVEA              1\n",
       "0       GOURL              1\n",
       "11      LACOR              1\n",
       "1       VAFFE              1\n",
       "7       SANTG              1\n",
       "5       FOLIG              1\n",
       "3       FOLKO              1\n",
       "2       BOTTM              1\n",
       "19      ERNSH              1"
      ]
     },
     "execution_count": 65,
     "metadata": {},
     "output_type": "execute_result"
    }
   ],
   "source": [
    "pd.DataFrame(product_count.items(), columns=['CustomerID', 'Product count']).sort('Product count', ascending=False)"
   ]
  },
  {
   "cell_type": "markdown",
   "metadata": {},
   "source": [
    "Looking at the result it is apparent that the same result set is returned by both databases."
   ]
  },
  {
   "cell_type": "markdown",
   "metadata": {},
   "source": [
    "#### Exercise 5"
   ]
  },
  {
   "cell_type": "markdown",
   "metadata": {},
   "source": [
    "In this exercise we are interesed in retrieving those products that have been bought by customers, who also bought 'Uncle Bob’s Organic Dried Pears' (ProductID 7) and how many different products.\n",
    "This exercise is slightly more complex than the previous exercises, since we need to make a self join on a query that joins multiple tables (i.e. `orders`, `order details` and `products`)."
   ]
  },
  {
   "cell_type": "code",
   "execution_count": 130,
   "metadata": {
    "collapsed": true
   },
   "outputs": [],
   "source": [
    "stmt = \"\"\"\n",
    "SELECT count(p.productid), p.productname FROM orders\n",
    "INNER JOIN [Order Details] AS od ON od.orderid=orders.orderid\n",
    "INNER JOIN products AS p ON p.productid=od.productid\n",
    "WHERE CustomerID IN\n",
    "            (SELECT CustomerID FROM orders\n",
    "             INNER JOIN [Order Details] ON [Order Details].orderid=orders.orderid\n",
    "             WHERE [Order Details].productid=7) AND od.productid!=7\n",
    "GROUP BY od.productid\n",
    "\"\"\""
   ]
  },
  {
   "cell_type": "markdown",
   "metadata": {},
   "source": [
    "The above `SELECT` statement makes an `inner join` between the tables `orders`, `order details` and `products`. The `WHERE` clause then matches the intersection between the `CustomerID` from the parent query and the `CustomerID` from the subquery, where the `ProductID` equals `7`. Finally, the tuples are grouped by productid and the result is counted."
   ]
  },
  {
   "cell_type": "markdown",
   "metadata": {},
   "source": [
    "In the code below, the statement is executed and sent to stdout in a DataFrame"
   ]
  },
  {
   "cell_type": "code",
   "execution_count": 142,
   "metadata": {
    "collapsed": false
   },
   "outputs": [
    {
     "data": {
      "text/html": [
       "<div>\n",
       "<table border=\"1\" class=\"dataframe\">\n",
       "  <thead>\n",
       "    <tr style=\"text-align: right;\">\n",
       "      <th></th>\n",
       "      <th>count</th>\n",
       "      <th>ProductName_sqlite</th>\n",
       "    </tr>\n",
       "  </thead>\n",
       "  <tbody>\n",
       "    <tr>\n",
       "      <th>15</th>\n",
       "      <td>16</td>\n",
       "      <td>Alice Mutton</td>\n",
       "    </tr>\n",
       "    <tr>\n",
       "      <th>2</th>\n",
       "      <td>7</td>\n",
       "      <td>Aniseed Syrup</td>\n",
       "    </tr>\n",
       "    <tr>\n",
       "      <th>38</th>\n",
       "      <td>13</td>\n",
       "      <td>Boston Crab Meat</td>\n",
       "    </tr>\n",
       "    <tr>\n",
       "      <th>58</th>\n",
       "      <td>19</td>\n",
       "      <td>Camembert Pierrot</td>\n",
       "    </tr>\n",
       "    <tr>\n",
       "      <th>16</th>\n",
       "      <td>9</td>\n",
       "      <td>Carnarvon Tigers</td>\n",
       "    </tr>\n",
       "    <tr>\n",
       "      <th>0</th>\n",
       "      <td>8</td>\n",
       "      <td>Chai</td>\n",
       "    </tr>\n",
       "    <tr>\n",
       "      <th>1</th>\n",
       "      <td>18</td>\n",
       "      <td>Chang</td>\n",
       "    </tr>\n",
       "    <tr>\n",
       "      <th>37</th>\n",
       "      <td>10</td>\n",
       "      <td>Chartreuse verte</td>\n",
       "    </tr>\n",
       "    <tr>\n",
       "      <th>3</th>\n",
       "      <td>6</td>\n",
       "      <td>Chef Anton's Cajun Seasoning</td>\n",
       "    </tr>\n",
       "    <tr>\n",
       "      <th>4</th>\n",
       "      <td>6</td>\n",
       "      <td>Chef Anton's Gumbo Mix</td>\n",
       "    </tr>\n",
       "    <tr>\n",
       "      <th>46</th>\n",
       "      <td>2</td>\n",
       "      <td>Chocolade</td>\n",
       "    </tr>\n",
       "    <tr>\n",
       "      <th>36</th>\n",
       "      <td>7</td>\n",
       "      <td>C�te de Blaye</td>\n",
       "    </tr>\n",
       "    <tr>\n",
       "      <th>56</th>\n",
       "      <td>4</td>\n",
       "      <td>Escargots de Bourgogne</td>\n",
       "    </tr>\n",
       "    <tr>\n",
       "      <th>50</th>\n",
       "      <td>7</td>\n",
       "      <td>Filo Mix</td>\n",
       "    </tr>\n",
       "    <tr>\n",
       "      <th>68</th>\n",
       "      <td>16</td>\n",
       "      <td>Flotemysost</td>\n",
       "    </tr>\n",
       "    <tr>\n",
       "      <th>31</th>\n",
       "      <td>14</td>\n",
       "      <td>Geitost</td>\n",
       "    </tr>\n",
       "    <tr>\n",
       "      <th>13</th>\n",
       "      <td>2</td>\n",
       "      <td>Genen Shouyu</td>\n",
       "    </tr>\n",
       "    <tr>\n",
       "      <th>54</th>\n",
       "      <td>18</td>\n",
       "      <td>Gnocchi di nonna Alice</td>\n",
       "    </tr>\n",
       "    <tr>\n",
       "      <th>29</th>\n",
       "      <td>17</td>\n",
       "      <td>Gorgonzola Telino</td>\n",
       "    </tr>\n",
       "    <tr>\n",
       "      <th>5</th>\n",
       "      <td>5</td>\n",
       "      <td>Grandma's Boysenberry Spread</td>\n",
       "    </tr>\n",
       "    <tr>\n",
       "      <th>35</th>\n",
       "      <td>2</td>\n",
       "      <td>Gravad lax</td>\n",
       "    </tr>\n",
       "    <tr>\n",
       "      <th>22</th>\n",
       "      <td>15</td>\n",
       "      <td>Guaran� Fant�stica</td>\n",
       "    </tr>\n",
       "    <tr>\n",
       "      <th>66</th>\n",
       "      <td>9</td>\n",
       "      <td>Gudbrandsdalsost</td>\n",
       "    </tr>\n",
       "    <tr>\n",
       "      <th>42</th>\n",
       "      <td>8</td>\n",
       "      <td>Gula Malacca</td>\n",
       "    </tr>\n",
       "    <tr>\n",
       "      <th>24</th>\n",
       "      <td>10</td>\n",
       "      <td>Gumb�r Gummib�rchen</td>\n",
       "    </tr>\n",
       "    <tr>\n",
       "      <th>20</th>\n",
       "      <td>6</td>\n",
       "      <td>Gustaf's Kn�ckebr�d</td>\n",
       "    </tr>\n",
       "    <tr>\n",
       "      <th>8</th>\n",
       "      <td>16</td>\n",
       "      <td>Ikura</td>\n",
       "    </tr>\n",
       "    <tr>\n",
       "      <th>34</th>\n",
       "      <td>6</td>\n",
       "      <td>Inlagd Sill</td>\n",
       "    </tr>\n",
       "    <tr>\n",
       "      <th>41</th>\n",
       "      <td>9</td>\n",
       "      <td>Ipoh Coffee</td>\n",
       "    </tr>\n",
       "    <tr>\n",
       "      <th>39</th>\n",
       "      <td>22</td>\n",
       "      <td>Jack's New England Clam Chowder</td>\n",
       "    </tr>\n",
       "    <tr>\n",
       "      <th>...</th>\n",
       "      <td>...</td>\n",
       "      <td>...</td>\n",
       "    </tr>\n",
       "    <tr>\n",
       "      <th>14</th>\n",
       "      <td>14</td>\n",
       "      <td>Pavlova</td>\n",
       "    </tr>\n",
       "    <tr>\n",
       "      <th>51</th>\n",
       "      <td>8</td>\n",
       "      <td>Perth Pasties</td>\n",
       "    </tr>\n",
       "    <tr>\n",
       "      <th>53</th>\n",
       "      <td>12</td>\n",
       "      <td>P�t� chinois</td>\n",
       "    </tr>\n",
       "    <tr>\n",
       "      <th>9</th>\n",
       "      <td>12</td>\n",
       "      <td>Queso Cabrales</td>\n",
       "    </tr>\n",
       "    <tr>\n",
       "      <th>10</th>\n",
       "      <td>7</td>\n",
       "      <td>Queso Manchego La Pastora</td>\n",
       "    </tr>\n",
       "    <tr>\n",
       "      <th>57</th>\n",
       "      <td>19</td>\n",
       "      <td>Raclette Courdavault</td>\n",
       "    </tr>\n",
       "    <tr>\n",
       "      <th>55</th>\n",
       "      <td>8</td>\n",
       "      <td>Ravioli Angelo</td>\n",
       "    </tr>\n",
       "    <tr>\n",
       "      <th>72</th>\n",
       "      <td>17</td>\n",
       "      <td>Rh�nbr�u Klosterbier</td>\n",
       "    </tr>\n",
       "    <tr>\n",
       "      <th>43</th>\n",
       "      <td>5</td>\n",
       "      <td>Rogede sild</td>\n",
       "    </tr>\n",
       "    <tr>\n",
       "      <th>70</th>\n",
       "      <td>4</td>\n",
       "      <td>R�d Kaviar</td>\n",
       "    </tr>\n",
       "    <tr>\n",
       "      <th>26</th>\n",
       "      <td>8</td>\n",
       "      <td>R�ssle Sauerkraut</td>\n",
       "    </tr>\n",
       "    <tr>\n",
       "      <th>32</th>\n",
       "      <td>6</td>\n",
       "      <td>Sasquatch Ale</td>\n",
       "    </tr>\n",
       "    <tr>\n",
       "      <th>25</th>\n",
       "      <td>4</td>\n",
       "      <td>Schoggi Schokolade</td>\n",
       "    </tr>\n",
       "    <tr>\n",
       "      <th>65</th>\n",
       "      <td>14</td>\n",
       "      <td>Scottish Longbreads</td>\n",
       "    </tr>\n",
       "    <tr>\n",
       "      <th>40</th>\n",
       "      <td>12</td>\n",
       "      <td>Singaporean Hokkien Fried Mee</td>\n",
       "    </tr>\n",
       "    <tr>\n",
       "      <th>18</th>\n",
       "      <td>7</td>\n",
       "      <td>Sir Rodney's Marmalade</td>\n",
       "    </tr>\n",
       "    <tr>\n",
       "      <th>19</th>\n",
       "      <td>9</td>\n",
       "      <td>Sir Rodney's Scones</td>\n",
       "    </tr>\n",
       "    <tr>\n",
       "      <th>59</th>\n",
       "      <td>7</td>\n",
       "      <td>Sirop d'�rable</td>\n",
       "    </tr>\n",
       "    <tr>\n",
       "      <th>44</th>\n",
       "      <td>11</td>\n",
       "      <td>Spegesild</td>\n",
       "    </tr>\n",
       "    <tr>\n",
       "      <th>33</th>\n",
       "      <td>15</td>\n",
       "      <td>Steeleye Stout</td>\n",
       "    </tr>\n",
       "    <tr>\n",
       "      <th>60</th>\n",
       "      <td>22</td>\n",
       "      <td>Tarte au sucre</td>\n",
       "    </tr>\n",
       "    <tr>\n",
       "      <th>17</th>\n",
       "      <td>9</td>\n",
       "      <td>Teatime Chocolate Biscuits</td>\n",
       "    </tr>\n",
       "    <tr>\n",
       "      <th>27</th>\n",
       "      <td>10</td>\n",
       "      <td>Th�ringer Rostbratwurst</td>\n",
       "    </tr>\n",
       "    <tr>\n",
       "      <th>12</th>\n",
       "      <td>7</td>\n",
       "      <td>Tofu</td>\n",
       "    </tr>\n",
       "    <tr>\n",
       "      <th>52</th>\n",
       "      <td>13</td>\n",
       "      <td>Tourti�re</td>\n",
       "    </tr>\n",
       "    <tr>\n",
       "      <th>21</th>\n",
       "      <td>8</td>\n",
       "      <td>Tunnbr�d</td>\n",
       "    </tr>\n",
       "    <tr>\n",
       "      <th>48</th>\n",
       "      <td>2</td>\n",
       "      <td>Valkoinen suklaa</td>\n",
       "    </tr>\n",
       "    <tr>\n",
       "      <th>61</th>\n",
       "      <td>7</td>\n",
       "      <td>Vegie-spread</td>\n",
       "    </tr>\n",
       "    <tr>\n",
       "      <th>62</th>\n",
       "      <td>13</td>\n",
       "      <td>Wimmers gute Semmelkn�del</td>\n",
       "    </tr>\n",
       "    <tr>\n",
       "      <th>45</th>\n",
       "      <td>10</td>\n",
       "      <td>Zaanse koeken</td>\n",
       "    </tr>\n",
       "  </tbody>\n",
       "</table>\n",
       "<p>75 rows × 2 columns</p>\n",
       "</div>"
      ],
      "text/plain": [
       "    count               ProductName_sqlite\n",
       "15     16                     Alice Mutton\n",
       "2       7                    Aniseed Syrup\n",
       "38     13                 Boston Crab Meat\n",
       "58     19                Camembert Pierrot\n",
       "16      9                 Carnarvon Tigers\n",
       "0       8                             Chai\n",
       "1      18                            Chang\n",
       "37     10                 Chartreuse verte\n",
       "3       6     Chef Anton's Cajun Seasoning\n",
       "4       6           Chef Anton's Gumbo Mix\n",
       "46      2                        Chocolade\n",
       "36      7                    C�te de Blaye\n",
       "56      4           Escargots de Bourgogne\n",
       "50      7                         Filo Mix\n",
       "68     16                      Flotemysost\n",
       "31     14                          Geitost\n",
       "13      2                     Genen Shouyu\n",
       "54     18           Gnocchi di nonna Alice\n",
       "29     17                Gorgonzola Telino\n",
       "5       5     Grandma's Boysenberry Spread\n",
       "35      2                       Gravad lax\n",
       "22     15               Guaran� Fant�stica\n",
       "66      9                 Gudbrandsdalsost\n",
       "42      8                     Gula Malacca\n",
       "24     10              Gumb�r Gummib�rchen\n",
       "20      6              Gustaf's Kn�ckebr�d\n",
       "8      16                            Ikura\n",
       "34      6                      Inlagd Sill\n",
       "41      9                      Ipoh Coffee\n",
       "39     22  Jack's New England Clam Chowder\n",
       "..    ...                              ...\n",
       "14     14                          Pavlova\n",
       "51      8                    Perth Pasties\n",
       "53     12                     P�t� chinois\n",
       "9      12                   Queso Cabrales\n",
       "10      7        Queso Manchego La Pastora\n",
       "57     19             Raclette Courdavault\n",
       "55      8                   Ravioli Angelo\n",
       "72     17             Rh�nbr�u Klosterbier\n",
       "43      5                      Rogede sild\n",
       "70      4                       R�d Kaviar\n",
       "26      8                R�ssle Sauerkraut\n",
       "32      6                    Sasquatch Ale\n",
       "25      4               Schoggi Schokolade\n",
       "65     14              Scottish Longbreads\n",
       "40     12    Singaporean Hokkien Fried Mee\n",
       "18      7           Sir Rodney's Marmalade\n",
       "19      9              Sir Rodney's Scones\n",
       "59      7                   Sirop d'�rable\n",
       "44     11                        Spegesild\n",
       "33     15                   Steeleye Stout\n",
       "60     22                   Tarte au sucre\n",
       "17      9       Teatime Chocolate Biscuits\n",
       "27     10          Th�ringer Rostbratwurst\n",
       "12      7                             Tofu\n",
       "52     13                        Tourti�re\n",
       "21      8                         Tunnbr�d\n",
       "48      2                 Valkoinen suklaa\n",
       "61      7                     Vegie-spread\n",
       "62     13        Wimmers gute Semmelkn�del\n",
       "45     10                    Zaanse koeken\n",
       "\n",
       "[75 rows x 2 columns]"
      ]
     },
     "execution_count": 142,
     "metadata": {},
     "output_type": "execute_result"
    }
   ],
   "source": [
    "cur.execute(stmt)\n",
    "df_sql = pd.DataFrame(cur.fetchall(), columns=['count','ProductName_sqlite']).sort('ProductName_sqlite')\n",
    "df_sql"
   ]
  },
  {
   "cell_type": "markdown",
   "metadata": {},
   "source": [
    "We can do the same operation on MongoDB. Since we need to join 3 collections, we need to make some iterations. This process is significantly more time-consuming, than if the data was stored in the same collection."
   ]
  },
  {
   "cell_type": "markdown",
   "metadata": {},
   "source": [
    "The first thing we need to do, is to import a `defaultdict`, which we're going to use for counting the products. In order to not make the code too complex, we've not used a reducer-function to do the counting."
   ]
  },
  {
   "cell_type": "code",
   "execution_count": 132,
   "metadata": {
    "collapsed": true
   },
   "outputs": [],
   "source": [
    "from collections import defaultdict"
   ]
  },
  {
   "cell_type": "markdown",
   "metadata": {},
   "source": [
    "The first thing we need to do, is to find the customers that have ordered `product_id` 7. The function below takes a product_id as an argument and returns a set of customer_ids."
   ]
  },
  {
   "cell_type": "code",
   "execution_count": 133,
   "metadata": {
    "collapsed": true
   },
   "outputs": [],
   "source": [
    "def get_customers_with_productid(product_id):\n",
    "    \"\"\"\n",
    "        Takes product_id as an argument and returns a set of customer_ids\n",
    "        Args:\n",
    "            product_id (str)\n",
    "        Returns:\n",
    "            customers - (set) customer_ids\n",
    "    \"\"\"\n",
    "    customers = set()\n",
    "    # Find all the order details with the corresponding product_id\n",
    "    for details in c['order-details'].find({'ProductID': product_id}):\n",
    "        # For each detail, find the order.\n",
    "        for order in c.orders.find({'OrderID':details['OrderID']}).distinct('CustomerID'):\n",
    "            # Take the customer id and add it to a set\n",
    "            customers.add(order)\n",
    "    \n",
    "    return customers"
   ]
  },
  {
   "cell_type": "markdown",
   "metadata": {},
   "source": [
    "We can call the function and pass `product_id` 7 as an argument, to get the customers that bought this product."
   ]
  },
  {
   "cell_type": "code",
   "execution_count": 134,
   "metadata": {
    "collapsed": true
   },
   "outputs": [],
   "source": [
    "customers = get_customers_with_productid(7)"
   ]
  },
  {
   "cell_type": "markdown",
   "metadata": {},
   "source": [
    "We can construct another function to retrieve the products that was bought by the customers who also bought `productid` 7."
   ]
  },
  {
   "cell_type": "code",
   "execution_count": 136,
   "metadata": {
    "collapsed": false
   },
   "outputs": [],
   "source": [
    "def get_products_bought_by_customers(list_of_customers):\n",
    "    \"\"\"\n",
    "        Takes a list/set of customer_ids and returns the products that the customer also bought,\n",
    "        together with a count in a dictionary.\n",
    "        Args:\n",
    "            list-of-customers -- (iterable) list/set of customer_ids\n",
    "        Returns\n",
    "            products -- (dict) dictionary of products together with their count\n",
    "    \"\"\"\n",
    "    products = defaultdict(lambda: 0)\n",
    "    \n",
    "    # For each of the customer_ids in the given list..\n",
    "    for customer_id in customers:\n",
    "        # Find the orders for that customer_id\n",
    "        for order in c.orders.find({'CustomerID':customer_id}):\n",
    "            # For each order, find the order detail\n",
    "            for detail in c['order-details'].find({'OrderID':order['OrderID']}):\n",
    "                # Given the order detail, find the product name\n",
    "                for product_name in c.products.find({'ProductID': detail['ProductID']}):\n",
    "                    # Increment default dictionary for each product_name\n",
    "                    products[product_name['ProductName']] += 1\n",
    "    return products"
   ]
  },
  {
   "cell_type": "markdown",
   "metadata": {},
   "source": [
    "We can finally use the function above, to get a dictionary of products together with their count"
   ]
  },
  {
   "cell_type": "code",
   "execution_count": 137,
   "metadata": {
    "collapsed": true
   },
   "outputs": [],
   "source": [
    "products = get_products_bought_by_customers(customers)"
   ]
  },
  {
   "cell_type": "markdown",
   "metadata": {},
   "source": [
    "In this case we are not interested in the product \"Uncle Bob's Organic Dried Pears\", so we can just pop it off the dictionary."
   ]
  },
  {
   "cell_type": "code",
   "execution_count": 138,
   "metadata": {
    "collapsed": false
   },
   "outputs": [
    {
     "data": {
      "text/plain": [
       "29"
      ]
     },
     "execution_count": 138,
     "metadata": {},
     "output_type": "execute_result"
    }
   ],
   "source": [
    "products.pop(\"Uncle Bob's Organic Dried Pears\")"
   ]
  },
  {
   "cell_type": "markdown",
   "metadata": {},
   "source": [
    "Looking at the result below, it is apparent that the result obtained is similar to the previous result obtained for SQLite."
   ]
  },
  {
   "cell_type": "code",
   "execution_count": 139,
   "metadata": {
    "collapsed": false
   },
   "outputs": [
    {
     "data": {
      "text/html": [
       "<div>\n",
       "<table border=\"1\" class=\"dataframe\">\n",
       "  <thead>\n",
       "    <tr style=\"text-align: right;\">\n",
       "      <th></th>\n",
       "      <th>ProductName_mongo</th>\n",
       "      <th>count</th>\n",
       "    </tr>\n",
       "  </thead>\n",
       "  <tbody>\n",
       "    <tr>\n",
       "      <th>38</th>\n",
       "      <td>Alice Mutton</td>\n",
       "      <td>16</td>\n",
       "    </tr>\n",
       "    <tr>\n",
       "      <th>74</th>\n",
       "      <td>Aniseed Syrup</td>\n",
       "      <td>7</td>\n",
       "    </tr>\n",
       "    <tr>\n",
       "      <th>42</th>\n",
       "      <td>Boston Crab Meat</td>\n",
       "      <td>13</td>\n",
       "    </tr>\n",
       "    <tr>\n",
       "      <th>31</th>\n",
       "      <td>Camembert Pierrot</td>\n",
       "      <td>19</td>\n",
       "    </tr>\n",
       "    <tr>\n",
       "      <th>59</th>\n",
       "      <td>Carnarvon Tigers</td>\n",
       "      <td>9</td>\n",
       "    </tr>\n",
       "    <tr>\n",
       "      <th>2</th>\n",
       "      <td>Chai</td>\n",
       "      <td>8</td>\n",
       "    </tr>\n",
       "    <tr>\n",
       "      <th>53</th>\n",
       "      <td>Chang</td>\n",
       "      <td>18</td>\n",
       "    </tr>\n",
       "    <tr>\n",
       "      <th>9</th>\n",
       "      <td>Chartreuse verte</td>\n",
       "      <td>10</td>\n",
       "    </tr>\n",
       "    <tr>\n",
       "      <th>0</th>\n",
       "      <td>Chef Anton's Cajun Seasoning</td>\n",
       "      <td>6</td>\n",
       "    </tr>\n",
       "    <tr>\n",
       "      <th>19</th>\n",
       "      <td>Chef Anton's Gumbo Mix</td>\n",
       "      <td>6</td>\n",
       "    </tr>\n",
       "    <tr>\n",
       "      <th>44</th>\n",
       "      <td>Chocolade</td>\n",
       "      <td>2</td>\n",
       "    </tr>\n",
       "    <tr>\n",
       "      <th>14</th>\n",
       "      <td>Côte de Blaye</td>\n",
       "      <td>7</td>\n",
       "    </tr>\n",
       "    <tr>\n",
       "      <th>63</th>\n",
       "      <td>Escargots de Bourgogne</td>\n",
       "      <td>4</td>\n",
       "    </tr>\n",
       "    <tr>\n",
       "      <th>27</th>\n",
       "      <td>Filo Mix</td>\n",
       "      <td>7</td>\n",
       "    </tr>\n",
       "    <tr>\n",
       "      <th>45</th>\n",
       "      <td>Flotemysost</td>\n",
       "      <td>16</td>\n",
       "    </tr>\n",
       "    <tr>\n",
       "      <th>21</th>\n",
       "      <td>Geitost</td>\n",
       "      <td>14</td>\n",
       "    </tr>\n",
       "    <tr>\n",
       "      <th>36</th>\n",
       "      <td>Genen Shouyu</td>\n",
       "      <td>2</td>\n",
       "    </tr>\n",
       "    <tr>\n",
       "      <th>69</th>\n",
       "      <td>Gnocchi di nonna Alice</td>\n",
       "      <td>18</td>\n",
       "    </tr>\n",
       "    <tr>\n",
       "      <th>72</th>\n",
       "      <td>Gorgonzola Telino</td>\n",
       "      <td>17</td>\n",
       "    </tr>\n",
       "    <tr>\n",
       "      <th>4</th>\n",
       "      <td>Grandma's Boysenberry Spread</td>\n",
       "      <td>5</td>\n",
       "    </tr>\n",
       "    <tr>\n",
       "      <th>50</th>\n",
       "      <td>Gravad lax</td>\n",
       "      <td>2</td>\n",
       "    </tr>\n",
       "    <tr>\n",
       "      <th>12</th>\n",
       "      <td>Guaraná Fantástica</td>\n",
       "      <td>15</td>\n",
       "    </tr>\n",
       "    <tr>\n",
       "      <th>71</th>\n",
       "      <td>Gudbrandsdalsost</td>\n",
       "      <td>9</td>\n",
       "    </tr>\n",
       "    <tr>\n",
       "      <th>54</th>\n",
       "      <td>Gula Malacca</td>\n",
       "      <td>8</td>\n",
       "    </tr>\n",
       "    <tr>\n",
       "      <th>61</th>\n",
       "      <td>Gumbär Gummibärchen</td>\n",
       "      <td>10</td>\n",
       "    </tr>\n",
       "    <tr>\n",
       "      <th>1</th>\n",
       "      <td>Gustaf's Knäckebröd</td>\n",
       "      <td>6</td>\n",
       "    </tr>\n",
       "    <tr>\n",
       "      <th>28</th>\n",
       "      <td>Ikura</td>\n",
       "      <td>16</td>\n",
       "    </tr>\n",
       "    <tr>\n",
       "      <th>52</th>\n",
       "      <td>Inlagd Sill</td>\n",
       "      <td>6</td>\n",
       "    </tr>\n",
       "    <tr>\n",
       "      <th>20</th>\n",
       "      <td>Ipoh Coffee</td>\n",
       "      <td>9</td>\n",
       "    </tr>\n",
       "    <tr>\n",
       "      <th>33</th>\n",
       "      <td>Jack's New England Clam Chowder</td>\n",
       "      <td>22</td>\n",
       "    </tr>\n",
       "    <tr>\n",
       "      <th>...</th>\n",
       "      <td>...</td>\n",
       "      <td>...</td>\n",
       "    </tr>\n",
       "    <tr>\n",
       "      <th>6</th>\n",
       "      <td>Pavlova</td>\n",
       "      <td>14</td>\n",
       "    </tr>\n",
       "    <tr>\n",
       "      <th>62</th>\n",
       "      <td>Perth Pasties</td>\n",
       "      <td>8</td>\n",
       "    </tr>\n",
       "    <tr>\n",
       "      <th>47</th>\n",
       "      <td>Pâté chinois</td>\n",
       "      <td>12</td>\n",
       "    </tr>\n",
       "    <tr>\n",
       "      <th>3</th>\n",
       "      <td>Queso Cabrales</td>\n",
       "      <td>12</td>\n",
       "    </tr>\n",
       "    <tr>\n",
       "      <th>15</th>\n",
       "      <td>Queso Manchego La Pastora</td>\n",
       "      <td>7</td>\n",
       "    </tr>\n",
       "    <tr>\n",
       "      <th>48</th>\n",
       "      <td>Raclette Courdavault</td>\n",
       "      <td>19</td>\n",
       "    </tr>\n",
       "    <tr>\n",
       "      <th>41</th>\n",
       "      <td>Ravioli Angelo</td>\n",
       "      <td>8</td>\n",
       "    </tr>\n",
       "    <tr>\n",
       "      <th>8</th>\n",
       "      <td>Rhönbräu Klosterbier</td>\n",
       "      <td>17</td>\n",
       "    </tr>\n",
       "    <tr>\n",
       "      <th>65</th>\n",
       "      <td>Rogede sild</td>\n",
       "      <td>5</td>\n",
       "    </tr>\n",
       "    <tr>\n",
       "      <th>66</th>\n",
       "      <td>Röd Kaviar</td>\n",
       "      <td>4</td>\n",
       "    </tr>\n",
       "    <tr>\n",
       "      <th>30</th>\n",
       "      <td>Rössle Sauerkraut</td>\n",
       "      <td>8</td>\n",
       "    </tr>\n",
       "    <tr>\n",
       "      <th>16</th>\n",
       "      <td>Sasquatch Ale</td>\n",
       "      <td>6</td>\n",
       "    </tr>\n",
       "    <tr>\n",
       "      <th>57</th>\n",
       "      <td>Schoggi Schokolade</td>\n",
       "      <td>4</td>\n",
       "    </tr>\n",
       "    <tr>\n",
       "      <th>64</th>\n",
       "      <td>Scottish Longbreads</td>\n",
       "      <td>14</td>\n",
       "    </tr>\n",
       "    <tr>\n",
       "      <th>11</th>\n",
       "      <td>Singaporean Hokkien Fried Mee</td>\n",
       "      <td>12</td>\n",
       "    </tr>\n",
       "    <tr>\n",
       "      <th>73</th>\n",
       "      <td>Sir Rodney's Marmalade</td>\n",
       "      <td>7</td>\n",
       "    </tr>\n",
       "    <tr>\n",
       "      <th>32</th>\n",
       "      <td>Sir Rodney's Scones</td>\n",
       "      <td>9</td>\n",
       "    </tr>\n",
       "    <tr>\n",
       "      <th>26</th>\n",
       "      <td>Sirop d'érable</td>\n",
       "      <td>7</td>\n",
       "    </tr>\n",
       "    <tr>\n",
       "      <th>7</th>\n",
       "      <td>Spegesild</td>\n",
       "      <td>11</td>\n",
       "    </tr>\n",
       "    <tr>\n",
       "      <th>46</th>\n",
       "      <td>Steeleye Stout</td>\n",
       "      <td>15</td>\n",
       "    </tr>\n",
       "    <tr>\n",
       "      <th>18</th>\n",
       "      <td>Tarte au sucre</td>\n",
       "      <td>22</td>\n",
       "    </tr>\n",
       "    <tr>\n",
       "      <th>22</th>\n",
       "      <td>Teatime Chocolate Biscuits</td>\n",
       "      <td>9</td>\n",
       "    </tr>\n",
       "    <tr>\n",
       "      <th>29</th>\n",
       "      <td>Thüringer Rostbratwurst</td>\n",
       "      <td>10</td>\n",
       "    </tr>\n",
       "    <tr>\n",
       "      <th>5</th>\n",
       "      <td>Tofu</td>\n",
       "      <td>7</td>\n",
       "    </tr>\n",
       "    <tr>\n",
       "      <th>51</th>\n",
       "      <td>Tourtière</td>\n",
       "      <td>13</td>\n",
       "    </tr>\n",
       "    <tr>\n",
       "      <th>70</th>\n",
       "      <td>Tunnbröd</td>\n",
       "      <td>8</td>\n",
       "    </tr>\n",
       "    <tr>\n",
       "      <th>56</th>\n",
       "      <td>Valkoinen suklaa</td>\n",
       "      <td>2</td>\n",
       "    </tr>\n",
       "    <tr>\n",
       "      <th>55</th>\n",
       "      <td>Vegie-spread</td>\n",
       "      <td>7</td>\n",
       "    </tr>\n",
       "    <tr>\n",
       "      <th>58</th>\n",
       "      <td>Wimmers gute Semmelknödel</td>\n",
       "      <td>13</td>\n",
       "    </tr>\n",
       "    <tr>\n",
       "      <th>35</th>\n",
       "      <td>Zaanse koeken</td>\n",
       "      <td>10</td>\n",
       "    </tr>\n",
       "  </tbody>\n",
       "</table>\n",
       "<p>75 rows × 2 columns</p>\n",
       "</div>"
      ],
      "text/plain": [
       "                  ProductName_mongo  count\n",
       "38                     Alice Mutton     16\n",
       "74                    Aniseed Syrup      7\n",
       "42                 Boston Crab Meat     13\n",
       "31                Camembert Pierrot     19\n",
       "59                 Carnarvon Tigers      9\n",
       "2                              Chai      8\n",
       "53                            Chang     18\n",
       "9                  Chartreuse verte     10\n",
       "0      Chef Anton's Cajun Seasoning      6\n",
       "19           Chef Anton's Gumbo Mix      6\n",
       "44                        Chocolade      2\n",
       "14                    Côte de Blaye      7\n",
       "63           Escargots de Bourgogne      4\n",
       "27                         Filo Mix      7\n",
       "45                      Flotemysost     16\n",
       "21                          Geitost     14\n",
       "36                     Genen Shouyu      2\n",
       "69           Gnocchi di nonna Alice     18\n",
       "72                Gorgonzola Telino     17\n",
       "4      Grandma's Boysenberry Spread      5\n",
       "50                       Gravad lax      2\n",
       "12               Guaraná Fantástica     15\n",
       "71                 Gudbrandsdalsost      9\n",
       "54                     Gula Malacca      8\n",
       "61              Gumbär Gummibärchen     10\n",
       "1               Gustaf's Knäckebröd      6\n",
       "28                            Ikura     16\n",
       "52                      Inlagd Sill      6\n",
       "20                      Ipoh Coffee      9\n",
       "33  Jack's New England Clam Chowder     22\n",
       "..                              ...    ...\n",
       "6                           Pavlova     14\n",
       "62                    Perth Pasties      8\n",
       "47                     Pâté chinois     12\n",
       "3                    Queso Cabrales     12\n",
       "15        Queso Manchego La Pastora      7\n",
       "48             Raclette Courdavault     19\n",
       "41                   Ravioli Angelo      8\n",
       "8              Rhönbräu Klosterbier     17\n",
       "65                      Rogede sild      5\n",
       "66                       Röd Kaviar      4\n",
       "30                Rössle Sauerkraut      8\n",
       "16                    Sasquatch Ale      6\n",
       "57               Schoggi Schokolade      4\n",
       "64              Scottish Longbreads     14\n",
       "11    Singaporean Hokkien Fried Mee     12\n",
       "73           Sir Rodney's Marmalade      7\n",
       "32              Sir Rodney's Scones      9\n",
       "26                   Sirop d'érable      7\n",
       "7                         Spegesild     11\n",
       "46                   Steeleye Stout     15\n",
       "18                   Tarte au sucre     22\n",
       "22       Teatime Chocolate Biscuits      9\n",
       "29          Thüringer Rostbratwurst     10\n",
       "5                              Tofu      7\n",
       "51                        Tourtière     13\n",
       "70                         Tunnbröd      8\n",
       "56                 Valkoinen suklaa      2\n",
       "55                     Vegie-spread      7\n",
       "58        Wimmers gute Semmelknödel     13\n",
       "35                    Zaanse koeken     10\n",
       "\n",
       "[75 rows x 2 columns]"
      ]
     },
     "execution_count": 139,
     "metadata": {},
     "output_type": "execute_result"
    }
   ],
   "source": [
    "df_mongo = pd.DataFrame(products.items(), columns=['ProductName_mongo', 'count']).sort('ProductName_mongo')\n",
    "df_mongo"
   ]
  },
  {
   "cell_type": "markdown",
   "metadata": {
    "collapsed": true
   },
   "source": [
    "#### Exercise 6"
   ]
  },
  {
   "cell_type": "markdown",
   "metadata": {},
   "source": [
    "Of those products ordered by customers who have also ordered “Uncle Bob’s Organic Dried Pears”, which one has been ordered the most (by the same set of customers)."
   ]
  },
  {
   "cell_type": "markdown",
   "metadata": {},
   "source": [
    "To achieve this result, we can just sort the DataFrame we instantiated earlier in descending order by the count."
   ]
  },
  {
   "cell_type": "code",
   "execution_count": 153,
   "metadata": {
    "collapsed": false
   },
   "outputs": [
    {
     "data": {
      "text/html": [
       "<div>\n",
       "<table border=\"1\" class=\"dataframe\">\n",
       "  <thead>\n",
       "    <tr style=\"text-align: right;\">\n",
       "      <th></th>\n",
       "      <th>count</th>\n",
       "      <th>ProductName_sqlite</th>\n",
       "    </tr>\n",
       "  </thead>\n",
       "  <tbody>\n",
       "    <tr>\n",
       "      <th>39</th>\n",
       "      <td>22</td>\n",
       "      <td>Jack's New England Clam Chowder</td>\n",
       "    </tr>\n",
       "    <tr>\n",
       "      <th>60</th>\n",
       "      <td>22</td>\n",
       "      <td>Tarte au sucre</td>\n",
       "    </tr>\n",
       "    <tr>\n",
       "      <th>57</th>\n",
       "      <td>19</td>\n",
       "      <td>Raclette Courdavault</td>\n",
       "    </tr>\n",
       "    <tr>\n",
       "      <th>58</th>\n",
       "      <td>19</td>\n",
       "      <td>Camembert Pierrot</td>\n",
       "    </tr>\n",
       "    <tr>\n",
       "      <th>1</th>\n",
       "      <td>18</td>\n",
       "      <td>Chang</td>\n",
       "    </tr>\n",
       "    <tr>\n",
       "      <th>54</th>\n",
       "      <td>18</td>\n",
       "      <td>Gnocchi di nonna Alice</td>\n",
       "    </tr>\n",
       "    <tr>\n",
       "      <th>72</th>\n",
       "      <td>17</td>\n",
       "      <td>Rh�nbr�u Klosterbier</td>\n",
       "    </tr>\n",
       "    <tr>\n",
       "      <th>29</th>\n",
       "      <td>17</td>\n",
       "      <td>Gorgonzola Telino</td>\n",
       "    </tr>\n",
       "    <tr>\n",
       "      <th>49</th>\n",
       "      <td>16</td>\n",
       "      <td>Manjimup Dried Apples</td>\n",
       "    </tr>\n",
       "    <tr>\n",
       "      <th>69</th>\n",
       "      <td>16</td>\n",
       "      <td>Mozzarella di Giovanni</td>\n",
       "    </tr>\n",
       "    <tr>\n",
       "      <th>8</th>\n",
       "      <td>16</td>\n",
       "      <td>Ikura</td>\n",
       "    </tr>\n",
       "    <tr>\n",
       "      <th>68</th>\n",
       "      <td>16</td>\n",
       "      <td>Flotemysost</td>\n",
       "    </tr>\n",
       "    <tr>\n",
       "      <th>15</th>\n",
       "      <td>16</td>\n",
       "      <td>Alice Mutton</td>\n",
       "    </tr>\n",
       "    <tr>\n",
       "      <th>33</th>\n",
       "      <td>15</td>\n",
       "      <td>Steeleye Stout</td>\n",
       "    </tr>\n",
       "    <tr>\n",
       "      <th>11</th>\n",
       "      <td>15</td>\n",
       "      <td>Konbu</td>\n",
       "    </tr>\n",
       "    <tr>\n",
       "      <th>74</th>\n",
       "      <td>15</td>\n",
       "      <td>Original Frankfurter gr�ne So�e</td>\n",
       "    </tr>\n",
       "    <tr>\n",
       "      <th>22</th>\n",
       "      <td>15</td>\n",
       "      <td>Guaran� Fant�stica</td>\n",
       "    </tr>\n",
       "    <tr>\n",
       "      <th>65</th>\n",
       "      <td>14</td>\n",
       "      <td>Scottish Longbreads</td>\n",
       "    </tr>\n",
       "    <tr>\n",
       "      <th>14</th>\n",
       "      <td>14</td>\n",
       "      <td>Pavlova</td>\n",
       "    </tr>\n",
       "    <tr>\n",
       "      <th>31</th>\n",
       "      <td>14</td>\n",
       "      <td>Geitost</td>\n",
       "    </tr>\n",
       "    <tr>\n",
       "      <th>67</th>\n",
       "      <td>13</td>\n",
       "      <td>Outback Lager</td>\n",
       "    </tr>\n",
       "    <tr>\n",
       "      <th>52</th>\n",
       "      <td>13</td>\n",
       "      <td>Tourti�re</td>\n",
       "    </tr>\n",
       "    <tr>\n",
       "      <th>62</th>\n",
       "      <td>13</td>\n",
       "      <td>Wimmers gute Semmelkn�del</td>\n",
       "    </tr>\n",
       "    <tr>\n",
       "      <th>38</th>\n",
       "      <td>13</td>\n",
       "      <td>Boston Crab Meat</td>\n",
       "    </tr>\n",
       "    <tr>\n",
       "      <th>9</th>\n",
       "      <td>12</td>\n",
       "      <td>Queso Cabrales</td>\n",
       "    </tr>\n",
       "    <tr>\n",
       "      <th>53</th>\n",
       "      <td>12</td>\n",
       "      <td>P�t� chinois</td>\n",
       "    </tr>\n",
       "    <tr>\n",
       "      <th>40</th>\n",
       "      <td>12</td>\n",
       "      <td>Singaporean Hokkien Fried Mee</td>\n",
       "    </tr>\n",
       "    <tr>\n",
       "      <th>63</th>\n",
       "      <td>12</td>\n",
       "      <td>Louisiana Fiery Hot Pepper Sauce</td>\n",
       "    </tr>\n",
       "    <tr>\n",
       "      <th>73</th>\n",
       "      <td>12</td>\n",
       "      <td>Lakkalik��ri</td>\n",
       "    </tr>\n",
       "    <tr>\n",
       "      <th>44</th>\n",
       "      <td>11</td>\n",
       "      <td>Spegesild</td>\n",
       "    </tr>\n",
       "    <tr>\n",
       "      <th>...</th>\n",
       "      <td>...</td>\n",
       "      <td>...</td>\n",
       "    </tr>\n",
       "    <tr>\n",
       "      <th>55</th>\n",
       "      <td>8</td>\n",
       "      <td>Ravioli Angelo</td>\n",
       "    </tr>\n",
       "    <tr>\n",
       "      <th>10</th>\n",
       "      <td>7</td>\n",
       "      <td>Queso Manchego La Pastora</td>\n",
       "    </tr>\n",
       "    <tr>\n",
       "      <th>59</th>\n",
       "      <td>7</td>\n",
       "      <td>Sirop d'�rable</td>\n",
       "    </tr>\n",
       "    <tr>\n",
       "      <th>50</th>\n",
       "      <td>7</td>\n",
       "      <td>Filo Mix</td>\n",
       "    </tr>\n",
       "    <tr>\n",
       "      <th>47</th>\n",
       "      <td>7</td>\n",
       "      <td>Maxilaku</td>\n",
       "    </tr>\n",
       "    <tr>\n",
       "      <th>12</th>\n",
       "      <td>7</td>\n",
       "      <td>Tofu</td>\n",
       "    </tr>\n",
       "    <tr>\n",
       "      <th>18</th>\n",
       "      <td>7</td>\n",
       "      <td>Sir Rodney's Marmalade</td>\n",
       "    </tr>\n",
       "    <tr>\n",
       "      <th>61</th>\n",
       "      <td>7</td>\n",
       "      <td>Vegie-spread</td>\n",
       "    </tr>\n",
       "    <tr>\n",
       "      <th>2</th>\n",
       "      <td>7</td>\n",
       "      <td>Aniseed Syrup</td>\n",
       "    </tr>\n",
       "    <tr>\n",
       "      <th>36</th>\n",
       "      <td>7</td>\n",
       "      <td>C�te de Blaye</td>\n",
       "    </tr>\n",
       "    <tr>\n",
       "      <th>20</th>\n",
       "      <td>6</td>\n",
       "      <td>Gustaf's Kn�ckebr�d</td>\n",
       "    </tr>\n",
       "    <tr>\n",
       "      <th>3</th>\n",
       "      <td>6</td>\n",
       "      <td>Chef Anton's Cajun Seasoning</td>\n",
       "    </tr>\n",
       "    <tr>\n",
       "      <th>4</th>\n",
       "      <td>6</td>\n",
       "      <td>Chef Anton's Gumbo Mix</td>\n",
       "    </tr>\n",
       "    <tr>\n",
       "      <th>34</th>\n",
       "      <td>6</td>\n",
       "      <td>Inlagd Sill</td>\n",
       "    </tr>\n",
       "    <tr>\n",
       "      <th>32</th>\n",
       "      <td>6</td>\n",
       "      <td>Sasquatch Ale</td>\n",
       "    </tr>\n",
       "    <tr>\n",
       "      <th>71</th>\n",
       "      <td>5</td>\n",
       "      <td>Longlife Tofu</td>\n",
       "    </tr>\n",
       "    <tr>\n",
       "      <th>43</th>\n",
       "      <td>5</td>\n",
       "      <td>Rogede sild</td>\n",
       "    </tr>\n",
       "    <tr>\n",
       "      <th>5</th>\n",
       "      <td>5</td>\n",
       "      <td>Grandma's Boysenberry Spread</td>\n",
       "    </tr>\n",
       "    <tr>\n",
       "      <th>23</th>\n",
       "      <td>5</td>\n",
       "      <td>NuNuCa Nu�-Nougat-Creme</td>\n",
       "    </tr>\n",
       "    <tr>\n",
       "      <th>6</th>\n",
       "      <td>5</td>\n",
       "      <td>Northwoods Cranberry Sauce</td>\n",
       "    </tr>\n",
       "    <tr>\n",
       "      <th>56</th>\n",
       "      <td>4</td>\n",
       "      <td>Escargots de Bourgogne</td>\n",
       "    </tr>\n",
       "    <tr>\n",
       "      <th>25</th>\n",
       "      <td>4</td>\n",
       "      <td>Schoggi Schokolade</td>\n",
       "    </tr>\n",
       "    <tr>\n",
       "      <th>64</th>\n",
       "      <td>4</td>\n",
       "      <td>Louisiana Hot Spiced Okra</td>\n",
       "    </tr>\n",
       "    <tr>\n",
       "      <th>30</th>\n",
       "      <td>4</td>\n",
       "      <td>Mascarpone Fabioli</td>\n",
       "    </tr>\n",
       "    <tr>\n",
       "      <th>70</th>\n",
       "      <td>4</td>\n",
       "      <td>R�d Kaviar</td>\n",
       "    </tr>\n",
       "    <tr>\n",
       "      <th>46</th>\n",
       "      <td>2</td>\n",
       "      <td>Chocolade</td>\n",
       "    </tr>\n",
       "    <tr>\n",
       "      <th>13</th>\n",
       "      <td>2</td>\n",
       "      <td>Genen Shouyu</td>\n",
       "    </tr>\n",
       "    <tr>\n",
       "      <th>35</th>\n",
       "      <td>2</td>\n",
       "      <td>Gravad lax</td>\n",
       "    </tr>\n",
       "    <tr>\n",
       "      <th>48</th>\n",
       "      <td>2</td>\n",
       "      <td>Valkoinen suklaa</td>\n",
       "    </tr>\n",
       "    <tr>\n",
       "      <th>7</th>\n",
       "      <td>1</td>\n",
       "      <td>Mishi Kobe Niku</td>\n",
       "    </tr>\n",
       "  </tbody>\n",
       "</table>\n",
       "<p>75 rows × 2 columns</p>\n",
       "</div>"
      ],
      "text/plain": [
       "    count                ProductName_sqlite\n",
       "39     22   Jack's New England Clam Chowder\n",
       "60     22                    Tarte au sucre\n",
       "57     19              Raclette Courdavault\n",
       "58     19                 Camembert Pierrot\n",
       "1      18                             Chang\n",
       "54     18            Gnocchi di nonna Alice\n",
       "72     17              Rh�nbr�u Klosterbier\n",
       "29     17                 Gorgonzola Telino\n",
       "49     16             Manjimup Dried Apples\n",
       "69     16            Mozzarella di Giovanni\n",
       "8      16                             Ikura\n",
       "68     16                       Flotemysost\n",
       "15     16                      Alice Mutton\n",
       "33     15                    Steeleye Stout\n",
       "11     15                             Konbu\n",
       "74     15   Original Frankfurter gr�ne So�e\n",
       "22     15                Guaran� Fant�stica\n",
       "65     14               Scottish Longbreads\n",
       "14     14                           Pavlova\n",
       "31     14                           Geitost\n",
       "67     13                     Outback Lager\n",
       "52     13                         Tourti�re\n",
       "62     13         Wimmers gute Semmelkn�del\n",
       "38     13                  Boston Crab Meat\n",
       "9      12                    Queso Cabrales\n",
       "53     12                      P�t� chinois\n",
       "40     12     Singaporean Hokkien Fried Mee\n",
       "63     12  Louisiana Fiery Hot Pepper Sauce\n",
       "73     12                      Lakkalik��ri\n",
       "44     11                         Spegesild\n",
       "..    ...                               ...\n",
       "55      8                    Ravioli Angelo\n",
       "10      7         Queso Manchego La Pastora\n",
       "59      7                    Sirop d'�rable\n",
       "50      7                          Filo Mix\n",
       "47      7                          Maxilaku\n",
       "12      7                              Tofu\n",
       "18      7            Sir Rodney's Marmalade\n",
       "61      7                      Vegie-spread\n",
       "2       7                     Aniseed Syrup\n",
       "36      7                     C�te de Blaye\n",
       "20      6               Gustaf's Kn�ckebr�d\n",
       "3       6      Chef Anton's Cajun Seasoning\n",
       "4       6            Chef Anton's Gumbo Mix\n",
       "34      6                       Inlagd Sill\n",
       "32      6                     Sasquatch Ale\n",
       "71      5                     Longlife Tofu\n",
       "43      5                       Rogede sild\n",
       "5       5      Grandma's Boysenberry Spread\n",
       "23      5           NuNuCa Nu�-Nougat-Creme\n",
       "6       5        Northwoods Cranberry Sauce\n",
       "56      4            Escargots de Bourgogne\n",
       "25      4                Schoggi Schokolade\n",
       "64      4         Louisiana Hot Spiced Okra\n",
       "30      4                Mascarpone Fabioli\n",
       "70      4                        R�d Kaviar\n",
       "46      2                         Chocolade\n",
       "13      2                      Genen Shouyu\n",
       "35      2                        Gravad lax\n",
       "48      2                  Valkoinen suklaa\n",
       "7       1                   Mishi Kobe Niku\n",
       "\n",
       "[75 rows x 2 columns]"
      ]
     },
     "execution_count": 153,
     "metadata": {},
     "output_type": "execute_result"
    }
   ],
   "source": [
    "df_sql.sort('count', ascending=False)"
   ]
  },
  {
   "cell_type": "markdown",
   "metadata": {},
   "source": [
    "Since we also have a similar DataFrame from MongoDB called `df_mongo` we can again call `sort()` on the DataFrame to get the count in descending order."
   ]
  },
  {
   "cell_type": "code",
   "execution_count": 155,
   "metadata": {
    "collapsed": false
   },
   "outputs": [
    {
     "data": {
      "text/html": [
       "<div>\n",
       "<table border=\"1\" class=\"dataframe\">\n",
       "  <thead>\n",
       "    <tr style=\"text-align: right;\">\n",
       "      <th></th>\n",
       "      <th>ProductName_mongo</th>\n",
       "      <th>count</th>\n",
       "    </tr>\n",
       "  </thead>\n",
       "  <tbody>\n",
       "    <tr>\n",
       "      <th>33</th>\n",
       "      <td>Jack's New England Clam Chowder</td>\n",
       "      <td>22</td>\n",
       "    </tr>\n",
       "    <tr>\n",
       "      <th>18</th>\n",
       "      <td>Tarte au sucre</td>\n",
       "      <td>22</td>\n",
       "    </tr>\n",
       "    <tr>\n",
       "      <th>48</th>\n",
       "      <td>Raclette Courdavault</td>\n",
       "      <td>19</td>\n",
       "    </tr>\n",
       "    <tr>\n",
       "      <th>31</th>\n",
       "      <td>Camembert Pierrot</td>\n",
       "      <td>19</td>\n",
       "    </tr>\n",
       "    <tr>\n",
       "      <th>53</th>\n",
       "      <td>Chang</td>\n",
       "      <td>18</td>\n",
       "    </tr>\n",
       "    <tr>\n",
       "      <th>69</th>\n",
       "      <td>Gnocchi di nonna Alice</td>\n",
       "      <td>18</td>\n",
       "    </tr>\n",
       "    <tr>\n",
       "      <th>8</th>\n",
       "      <td>Rhönbräu Klosterbier</td>\n",
       "      <td>17</td>\n",
       "    </tr>\n",
       "    <tr>\n",
       "      <th>72</th>\n",
       "      <td>Gorgonzola Telino</td>\n",
       "      <td>17</td>\n",
       "    </tr>\n",
       "    <tr>\n",
       "      <th>49</th>\n",
       "      <td>Manjimup Dried Apples</td>\n",
       "      <td>16</td>\n",
       "    </tr>\n",
       "    <tr>\n",
       "      <th>34</th>\n",
       "      <td>Mozzarella di Giovanni</td>\n",
       "      <td>16</td>\n",
       "    </tr>\n",
       "    <tr>\n",
       "      <th>28</th>\n",
       "      <td>Ikura</td>\n",
       "      <td>16</td>\n",
       "    </tr>\n",
       "    <tr>\n",
       "      <th>45</th>\n",
       "      <td>Flotemysost</td>\n",
       "      <td>16</td>\n",
       "    </tr>\n",
       "    <tr>\n",
       "      <th>38</th>\n",
       "      <td>Alice Mutton</td>\n",
       "      <td>16</td>\n",
       "    </tr>\n",
       "    <tr>\n",
       "      <th>46</th>\n",
       "      <td>Steeleye Stout</td>\n",
       "      <td>15</td>\n",
       "    </tr>\n",
       "    <tr>\n",
       "      <th>60</th>\n",
       "      <td>Konbu</td>\n",
       "      <td>15</td>\n",
       "    </tr>\n",
       "    <tr>\n",
       "      <th>25</th>\n",
       "      <td>Original Frankfurter grüne Soße</td>\n",
       "      <td>15</td>\n",
       "    </tr>\n",
       "    <tr>\n",
       "      <th>12</th>\n",
       "      <td>Guaraná Fantástica</td>\n",
       "      <td>15</td>\n",
       "    </tr>\n",
       "    <tr>\n",
       "      <th>64</th>\n",
       "      <td>Scottish Longbreads</td>\n",
       "      <td>14</td>\n",
       "    </tr>\n",
       "    <tr>\n",
       "      <th>6</th>\n",
       "      <td>Pavlova</td>\n",
       "      <td>14</td>\n",
       "    </tr>\n",
       "    <tr>\n",
       "      <th>21</th>\n",
       "      <td>Geitost</td>\n",
       "      <td>14</td>\n",
       "    </tr>\n",
       "    <tr>\n",
       "      <th>24</th>\n",
       "      <td>Outback Lager</td>\n",
       "      <td>13</td>\n",
       "    </tr>\n",
       "    <tr>\n",
       "      <th>51</th>\n",
       "      <td>Tourtière</td>\n",
       "      <td>13</td>\n",
       "    </tr>\n",
       "    <tr>\n",
       "      <th>58</th>\n",
       "      <td>Wimmers gute Semmelknödel</td>\n",
       "      <td>13</td>\n",
       "    </tr>\n",
       "    <tr>\n",
       "      <th>42</th>\n",
       "      <td>Boston Crab Meat</td>\n",
       "      <td>13</td>\n",
       "    </tr>\n",
       "    <tr>\n",
       "      <th>3</th>\n",
       "      <td>Queso Cabrales</td>\n",
       "      <td>12</td>\n",
       "    </tr>\n",
       "    <tr>\n",
       "      <th>47</th>\n",
       "      <td>Pâté chinois</td>\n",
       "      <td>12</td>\n",
       "    </tr>\n",
       "    <tr>\n",
       "      <th>11</th>\n",
       "      <td>Singaporean Hokkien Fried Mee</td>\n",
       "      <td>12</td>\n",
       "    </tr>\n",
       "    <tr>\n",
       "      <th>40</th>\n",
       "      <td>Louisiana Fiery Hot Pepper Sauce</td>\n",
       "      <td>12</td>\n",
       "    </tr>\n",
       "    <tr>\n",
       "      <th>10</th>\n",
       "      <td>Lakkalikööri</td>\n",
       "      <td>12</td>\n",
       "    </tr>\n",
       "    <tr>\n",
       "      <th>7</th>\n",
       "      <td>Spegesild</td>\n",
       "      <td>11</td>\n",
       "    </tr>\n",
       "    <tr>\n",
       "      <th>...</th>\n",
       "      <td>...</td>\n",
       "      <td>...</td>\n",
       "    </tr>\n",
       "    <tr>\n",
       "      <th>41</th>\n",
       "      <td>Ravioli Angelo</td>\n",
       "      <td>8</td>\n",
       "    </tr>\n",
       "    <tr>\n",
       "      <th>15</th>\n",
       "      <td>Queso Manchego La Pastora</td>\n",
       "      <td>7</td>\n",
       "    </tr>\n",
       "    <tr>\n",
       "      <th>26</th>\n",
       "      <td>Sirop d'érable</td>\n",
       "      <td>7</td>\n",
       "    </tr>\n",
       "    <tr>\n",
       "      <th>27</th>\n",
       "      <td>Filo Mix</td>\n",
       "      <td>7</td>\n",
       "    </tr>\n",
       "    <tr>\n",
       "      <th>67</th>\n",
       "      <td>Maxilaku</td>\n",
       "      <td>7</td>\n",
       "    </tr>\n",
       "    <tr>\n",
       "      <th>5</th>\n",
       "      <td>Tofu</td>\n",
       "      <td>7</td>\n",
       "    </tr>\n",
       "    <tr>\n",
       "      <th>73</th>\n",
       "      <td>Sir Rodney's Marmalade</td>\n",
       "      <td>7</td>\n",
       "    </tr>\n",
       "    <tr>\n",
       "      <th>55</th>\n",
       "      <td>Vegie-spread</td>\n",
       "      <td>7</td>\n",
       "    </tr>\n",
       "    <tr>\n",
       "      <th>74</th>\n",
       "      <td>Aniseed Syrup</td>\n",
       "      <td>7</td>\n",
       "    </tr>\n",
       "    <tr>\n",
       "      <th>14</th>\n",
       "      <td>Côte de Blaye</td>\n",
       "      <td>7</td>\n",
       "    </tr>\n",
       "    <tr>\n",
       "      <th>1</th>\n",
       "      <td>Gustaf's Knäckebröd</td>\n",
       "      <td>6</td>\n",
       "    </tr>\n",
       "    <tr>\n",
       "      <th>0</th>\n",
       "      <td>Chef Anton's Cajun Seasoning</td>\n",
       "      <td>6</td>\n",
       "    </tr>\n",
       "    <tr>\n",
       "      <th>19</th>\n",
       "      <td>Chef Anton's Gumbo Mix</td>\n",
       "      <td>6</td>\n",
       "    </tr>\n",
       "    <tr>\n",
       "      <th>52</th>\n",
       "      <td>Inlagd Sill</td>\n",
       "      <td>6</td>\n",
       "    </tr>\n",
       "    <tr>\n",
       "      <th>16</th>\n",
       "      <td>Sasquatch Ale</td>\n",
       "      <td>6</td>\n",
       "    </tr>\n",
       "    <tr>\n",
       "      <th>13</th>\n",
       "      <td>Longlife Tofu</td>\n",
       "      <td>5</td>\n",
       "    </tr>\n",
       "    <tr>\n",
       "      <th>65</th>\n",
       "      <td>Rogede sild</td>\n",
       "      <td>5</td>\n",
       "    </tr>\n",
       "    <tr>\n",
       "      <th>4</th>\n",
       "      <td>Grandma's Boysenberry Spread</td>\n",
       "      <td>5</td>\n",
       "    </tr>\n",
       "    <tr>\n",
       "      <th>17</th>\n",
       "      <td>NuNuCa Nuß-Nougat-Creme</td>\n",
       "      <td>5</td>\n",
       "    </tr>\n",
       "    <tr>\n",
       "      <th>68</th>\n",
       "      <td>Northwoods Cranberry Sauce</td>\n",
       "      <td>5</td>\n",
       "    </tr>\n",
       "    <tr>\n",
       "      <th>63</th>\n",
       "      <td>Escargots de Bourgogne</td>\n",
       "      <td>4</td>\n",
       "    </tr>\n",
       "    <tr>\n",
       "      <th>57</th>\n",
       "      <td>Schoggi Schokolade</td>\n",
       "      <td>4</td>\n",
       "    </tr>\n",
       "    <tr>\n",
       "      <th>37</th>\n",
       "      <td>Louisiana Hot Spiced Okra</td>\n",
       "      <td>4</td>\n",
       "    </tr>\n",
       "    <tr>\n",
       "      <th>43</th>\n",
       "      <td>Mascarpone Fabioli</td>\n",
       "      <td>4</td>\n",
       "    </tr>\n",
       "    <tr>\n",
       "      <th>66</th>\n",
       "      <td>Röd Kaviar</td>\n",
       "      <td>4</td>\n",
       "    </tr>\n",
       "    <tr>\n",
       "      <th>44</th>\n",
       "      <td>Chocolade</td>\n",
       "      <td>2</td>\n",
       "    </tr>\n",
       "    <tr>\n",
       "      <th>36</th>\n",
       "      <td>Genen Shouyu</td>\n",
       "      <td>2</td>\n",
       "    </tr>\n",
       "    <tr>\n",
       "      <th>50</th>\n",
       "      <td>Gravad lax</td>\n",
       "      <td>2</td>\n",
       "    </tr>\n",
       "    <tr>\n",
       "      <th>56</th>\n",
       "      <td>Valkoinen suklaa</td>\n",
       "      <td>2</td>\n",
       "    </tr>\n",
       "    <tr>\n",
       "      <th>39</th>\n",
       "      <td>Mishi Kobe Niku</td>\n",
       "      <td>1</td>\n",
       "    </tr>\n",
       "  </tbody>\n",
       "</table>\n",
       "<p>75 rows × 2 columns</p>\n",
       "</div>"
      ],
      "text/plain": [
       "                   ProductName_mongo  count\n",
       "33   Jack's New England Clam Chowder     22\n",
       "18                    Tarte au sucre     22\n",
       "48              Raclette Courdavault     19\n",
       "31                 Camembert Pierrot     19\n",
       "53                             Chang     18\n",
       "69            Gnocchi di nonna Alice     18\n",
       "8               Rhönbräu Klosterbier     17\n",
       "72                 Gorgonzola Telino     17\n",
       "49             Manjimup Dried Apples     16\n",
       "34            Mozzarella di Giovanni     16\n",
       "28                             Ikura     16\n",
       "45                       Flotemysost     16\n",
       "38                      Alice Mutton     16\n",
       "46                    Steeleye Stout     15\n",
       "60                             Konbu     15\n",
       "25   Original Frankfurter grüne Soße     15\n",
       "12                Guaraná Fantástica     15\n",
       "64               Scottish Longbreads     14\n",
       "6                            Pavlova     14\n",
       "21                           Geitost     14\n",
       "24                     Outback Lager     13\n",
       "51                         Tourtière     13\n",
       "58         Wimmers gute Semmelknödel     13\n",
       "42                  Boston Crab Meat     13\n",
       "3                     Queso Cabrales     12\n",
       "47                      Pâté chinois     12\n",
       "11     Singaporean Hokkien Fried Mee     12\n",
       "40  Louisiana Fiery Hot Pepper Sauce     12\n",
       "10                      Lakkalikööri     12\n",
       "7                          Spegesild     11\n",
       "..                               ...    ...\n",
       "41                    Ravioli Angelo      8\n",
       "15         Queso Manchego La Pastora      7\n",
       "26                    Sirop d'érable      7\n",
       "27                          Filo Mix      7\n",
       "67                          Maxilaku      7\n",
       "5                               Tofu      7\n",
       "73            Sir Rodney's Marmalade      7\n",
       "55                      Vegie-spread      7\n",
       "74                     Aniseed Syrup      7\n",
       "14                     Côte de Blaye      7\n",
       "1                Gustaf's Knäckebröd      6\n",
       "0       Chef Anton's Cajun Seasoning      6\n",
       "19            Chef Anton's Gumbo Mix      6\n",
       "52                       Inlagd Sill      6\n",
       "16                     Sasquatch Ale      6\n",
       "13                     Longlife Tofu      5\n",
       "65                       Rogede sild      5\n",
       "4       Grandma's Boysenberry Spread      5\n",
       "17           NuNuCa Nuß-Nougat-Creme      5\n",
       "68        Northwoods Cranberry Sauce      5\n",
       "63            Escargots de Bourgogne      4\n",
       "57                Schoggi Schokolade      4\n",
       "37         Louisiana Hot Spiced Okra      4\n",
       "43                Mascarpone Fabioli      4\n",
       "66                        Röd Kaviar      4\n",
       "44                         Chocolade      2\n",
       "36                      Genen Shouyu      2\n",
       "50                        Gravad lax      2\n",
       "56                  Valkoinen suklaa      2\n",
       "39                   Mishi Kobe Niku      1\n",
       "\n",
       "[75 rows x 2 columns]"
      ]
     },
     "execution_count": 155,
     "metadata": {},
     "output_type": "execute_result"
    }
   ],
   "source": [
    "df_mongo.sort('count', ascending=False)"
   ]
  },
  {
   "cell_type": "code",
   "execution_count": null,
   "metadata": {
    "collapsed": true
   },
   "outputs": [],
   "source": []
  },
  {
   "cell_type": "markdown",
   "metadata": {},
   "source": [
    "#### Exercise 7"
   ]
  },
  {
   "cell_type": "markdown",
   "metadata": {},
   "source": [
    "The customer with customerID ALFKI has bought a series of products. Determine which other customers have bought most of the same products (product types – 10 apples is no better than 1 apple)."
   ]
  },
  {
   "cell_type": "code",
   "execution_count": null,
   "metadata": {
    "collapsed": true
   },
   "outputs": [],
   "source": [
    "# TODO"
   ]
  },
  {
   "cell_type": "markdown",
   "metadata": {},
   "source": [
    "### Week 6"
   ]
  },
  {
   "cell_type": "markdown",
   "metadata": {},
   "source": [
    "#### Exercise 1"
   ]
  },
  {
   "cell_type": "code",
   "execution_count": null,
   "metadata": {
    "collapsed": true
   },
   "outputs": [],
   "source": [
    "# TODO"
   ]
  },
  {
   "cell_type": "markdown",
   "metadata": {},
   "source": [
    "#### Exercise 2"
   ]
  },
  {
   "cell_type": "markdown",
   "metadata": {},
   "source": [
    "We can get all the orders placed by the customer `ALFKI` by making a simple Cypher query containing a `WHERE` clause on `customerID`."
   ]
  },
  {
   "cell_type": "markdown",
   "metadata": {},
   "source": [
    "MATCH (c:Customer)-->(o:Order)-->(p:Product) WHERE c.customerID = 'ALFKI' RETURN c,o,p"
   ]
  },
  {
   "cell_type": "markdown",
   "metadata": {},
   "source": [
    "The `WHERE` clause in Cypher Query Language is similar to SQL when performing equality comparisons."
   ]
  },
  {
   "cell_type": "markdown",
   "metadata": {},
   "source": [
    "<img src=\"img/exercises_week6/exercise6-2.png\" width=\"400\" height=\"400\" />"
   ]
  },
  {
   "cell_type": "markdown",
   "metadata": {},
   "source": [
    "### Exercise 3"
   ]
  },
  {
   "cell_type": "code",
   "execution_count": 160,
   "metadata": {
    "collapsed": true
   },
   "outputs": [],
   "source": [
    "# TODO"
   ]
  },
  {
   "cell_type": "markdown",
   "metadata": {},
   "source": [
    "The customer with customerID ALFKI has made a number of orders containing some products. Return orders made by ALFKI that contain at least 2 products. Also return the products."
   ]
  },
  {
   "cell_type": "markdown",
   "metadata": {},
   "source": [
    "```\n",
    "MATCH (c:Customer)-->(o:Order)-->(p:Product) \n",
    "WITH c as c, count(p) as p_count \n",
    "WHERE c.customerID = 'ALFKI' AND p_count > 1  \n",
    "RETURN c,p_count\n",
    "```"
   ]
  },
  {
   "cell_type": "markdown",
   "metadata": {
    "collapsed": true
   },
   "source": [
    "<img src=\"img/exercises_week6/exercise6-3.png\" width=\"200\" height=\"200\" />"
   ]
  },
  {
   "cell_type": "markdown",
   "metadata": {},
   "source": [
    "### Exercise 4"
   ]
  },
  {
   "cell_type": "markdown",
   "metadata": {},
   "source": [
    "Determine how many and who has ordered “Uncle Bob’s Organic Dried Pears” (productID 7)."
   ]
  },
  {
   "cell_type": "markdown",
   "metadata": {},
   "source": [
    "We can start by drawing a graph of those people that have bought “Uncle Bob’s Organic Dried Pears” (productID 7)."
   ]
  },
  {
   "cell_type": "markdown",
   "metadata": {},
   "source": [
    "```\n",
    "MATCH (c:Customer)-->(o:Order)-->(p:Product) \n",
    "WHERE p.productID = '7' \n",
    "RETURN p,o,c, count(o)\n",
    "```"
   ]
  },
  {
   "cell_type": "markdown",
   "metadata": {},
   "source": [
    "The query above joins the relationships between `Customer`,`Order` and `Product`. The query is then grouped in reverse order."
   ]
  },
  {
   "cell_type": "markdown",
   "metadata": {},
   "source": [
    "<img src=\"img/exercises_week6/exercise6-4.png\" width=\"600\" height=\"600\" />"
   ]
  },
  {
   "cell_type": "markdown",
   "metadata": {
    "collapsed": true
   },
   "source": [
    "This graph, however, does not depict the product count for each customer. To do this, we can represent the data in a tabular format instead. Since we don't need to draw the query, we can skip the intermediary `Product` relationship:\n",
    "```\n",
    "MATCH (c:Customer)-->(o:Order)-->(p:Product) \n",
    "WHERE p.productID = '7' RETURN c, count(o)\n",
    "```"
   ]
  },
  {
   "cell_type": "markdown",
   "metadata": {},
   "source": [
    "| c.customerID | count(o) | \n",
    "|--------------|----------| \n",
    "| VAFFE        | 1        | \n",
    "| BOTTM        | 1        | \n",
    "| BONAP        | 2        | \n",
    "| SPLIR        | 1        | \n",
    "| GOURL        | 1        | \n",
    "| OCEAN        | 1        | \n",
    "| ERNSH        | 1        | \n",
    "| LILAS        | 1        | \n",
    "| SAVEA        | 1        | \n",
    "| QUICK        | 2        | \n",
    "| FOLKO        | 1        | \n",
    "| OTTIK        | 2        | \n",
    "| RATTC        | 3        | \n",
    "| LACOR        | 1        | \n",
    "| BSBEV        | 2        | \n",
    "| EASTC        | 2        | \n",
    "| SANTG        | 1        | \n",
    "| VICTE        | 2        | \n",
    "| FOLIG        | 1        | \n",
    "| REGGC        | 2        | \n"
   ]
  },
  {
   "cell_type": "markdown",
   "metadata": {},
   "source": [
    "#### Exercise 5"
   ]
  },
  {
   "cell_type": "markdown",
   "metadata": {},
   "source": [
    "How many different and which products have been ordered by customers who have also ordered “Uncle Bob’s Organic Dried Pears”?"
   ]
  },
  {
   "cell_type": "code",
   "execution_count": null,
   "metadata": {
    "collapsed": true
   },
   "outputs": [],
   "source": [
    "# TODO"
   ]
  },
  {
   "cell_type": "markdown",
   "metadata": {},
   "source": [
    "#### Exercise 6"
   ]
  },
  {
   "cell_type": "markdown",
   "metadata": {},
   "source": [
    "Of those products ordered by customers who have also ordered “Uncle Bob’s Organic Dried Pears”, which one has been ordered the most (by the same set of customers)."
   ]
  },
  {
   "cell_type": "code",
   "execution_count": null,
   "metadata": {
    "collapsed": true
   },
   "outputs": [],
   "source": [
    "# TODO"
   ]
  },
  {
   "cell_type": "markdown",
   "metadata": {},
   "source": [
    "#### Exercise 7"
   ]
  },
  {
   "cell_type": "markdown",
   "metadata": {},
   "source": [
    "The customer with customerID ALFKI has bought a series of products. Determine which other customers have bought most of the same products."
   ]
  },
  {
   "cell_type": "code",
   "execution_count": null,
   "metadata": {
    "collapsed": true
   },
   "outputs": [],
   "source": [
    "# TODO"
   ]
  }
 ],
 "metadata": {
  "kernelspec": {
   "display_name": "Python 2",
   "language": "python",
   "name": "python2"
  },
  "language_info": {
   "codemirror_mode": {
    "name": "ipython",
    "version": 2
   },
   "file_extension": ".py",
   "mimetype": "text/x-python",
   "name": "python",
   "nbconvert_exporter": "python",
   "pygments_lexer": "ipython2",
   "version": "2.7.10"
  }
 },
 "nbformat": 4,
 "nbformat_minor": 0
}
